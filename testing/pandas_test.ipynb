{
 "cells": [
  {
   "cell_type": "code",
   "execution_count": 1,
   "metadata": {
    "collapsed": true
   },
   "outputs": [],
   "source": [
    "import numpy as np\n",
    "import matplotlib.pyplot as plt\n",
    "import pandas as pd\n",
    "from pandas import DataFrame, Series"
   ]
  },
  {
   "cell_type": "code",
   "execution_count": 14,
   "metadata": {
    "collapsed": false
   },
   "outputs": [
    {
     "name": "stdout",
     "output_type": "stream",
     "text": [
      "0    0\n",
      "1    1\n",
      "2    2\n",
      "3    3\n",
      "dtype: int64\n",
      "0    1\n",
      "1    2\n",
      "2    3\n",
      "3    4\n",
      "dtype: int64\n",
      "0    1\n",
      "1    3\n",
      "2    5\n",
      "3    7\n",
      "dtype: int64\n",
      "0    aaa\n",
      "1    bbb\n",
      "dtype: object\n"
     ]
    }
   ],
   "source": [
    "s1 = Series(range(0,4)) # -> 0, 1, 2, 3\n",
    "print s1\n",
    "s2 = Series(range(1,5)) # -> 1, 2, 3, 4\n",
    "print s2\n",
    "s3 = s1 + s2 # -> 1, 3, 5, 7\n",
    "print s3\n",
    "s4 = Series(['a','b'])*3 # -> 'aaa','bbb'\n",
    "print s4"
   ]
  },
  {
   "cell_type": "code",
   "execution_count": 23,
   "metadata": {
    "collapsed": false
   },
   "outputs": [
    {
     "name": "stdout",
     "output_type": "stream",
     "text": [
      "Int64Index([0, 1, 2, 3], dtype='int64')\n",
      "Int64Index([0, 1], dtype='int64')\n",
      "Int64Index([0, 1, 2, 3], dtype='int64')\n",
      "False\n",
      "True\n",
      "False\n",
      "1\n",
      "[0, 1, 2, 3]\n",
      "Int64Index([0, 1, 2, 3], dtype='int32')\n",
      "4\n",
      "0\n",
      "3\n"
     ]
    }
   ],
   "source": [
    "# --- get Index from Series and DataFrame\n",
    "idx = s1.index\n",
    "print idx\n",
    "df = pd.concat([s1, s2], axis=1)\n",
    "idx = df.columns # the column index\n",
    "print idx\n",
    "idx = df.index # the row index\n",
    "print idx\n",
    "\n",
    "# --- some Index attributes\n",
    "b = idx.is_monotonic_decreasing\n",
    "print b\n",
    "b = idx.is_monotonic_increasing\n",
    "print b\n",
    "b = idx.has_duplicates\n",
    "print b\n",
    "i = idx.nlevels # multi-level indexes\n",
    "print i\n",
    "\n",
    "# --- some Index methods\n",
    "\n",
    "#a = idx.values() # get as numpy array\n",
    "l = idx.tolist() # get as a python list\n",
    "print l\n",
    "idx = idx.astype(int)# change data type\n",
    "print idx\n",
    "#b = idx.equals() # check for equality\n",
    "#idx = idx.union() # union of two indexes\n",
    "i = idx.nunique() # number unique labels\n",
    "print i\n",
    "label = idx.min() # minimum label\n",
    "print label\n",
    "label = idx.max() # maximum label\n",
    "print label"
   ]
  },
  {
   "cell_type": "code",
   "execution_count": null,
   "metadata": {
    "collapsed": true
   },
   "outputs": [],
   "source": []
  }
 ],
 "metadata": {
  "kernelspec": {
   "display_name": "Python 2",
   "language": "python",
   "name": "python2"
  },
  "language_info": {
   "codemirror_mode": {
    "name": "ipython",
    "version": 2
   },
   "file_extension": ".py",
   "mimetype": "text/x-python",
   "name": "python",
   "nbconvert_exporter": "python",
   "pygments_lexer": "ipython2",
   "version": "2.7.10"
  }
 },
 "nbformat": 4,
 "nbformat_minor": 0
}
