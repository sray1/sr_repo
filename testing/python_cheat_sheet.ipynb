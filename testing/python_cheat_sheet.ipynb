{
 "cells": [
  {
   "cell_type": "code",
   "execution_count": 2,
   "metadata": {
    "collapsed": false
   },
   "outputs": [],
   "source": [
    "def is_fish_as_string(argument):\n",
    "    if argument:\n",
    "        return 'fish'\n",
    "    else:\n",
    "        return 'not fish' "
   ]
  },
  {
   "cell_type": "code",
   "execution_count": 3,
   "metadata": {
    "collapsed": false
   },
   "outputs": [
    {
     "data": {
      "text/plain": [
       "'fish'"
      ]
     },
     "execution_count": 3,
     "metadata": {},
     "output_type": "execute_result"
    }
   ],
   "source": [
    "is_fish_as_string(1)"
   ]
  },
  {
   "cell_type": "code",
   "execution_count": 4,
   "metadata": {
    "collapsed": false
   },
   "outputs": [
    {
     "data": {
      "text/plain": [
       "'not fish'"
      ]
     },
     "execution_count": 4,
     "metadata": {},
     "output_type": "execute_result"
    }
   ],
   "source": [
    "is_fish_as_string(0)"
   ]
  },
  {
   "cell_type": "code",
   "execution_count": 16,
   "metadata": {
    "collapsed": false
   },
   "outputs": [
    {
     "name": "stdout",
     "output_type": "stream",
     "text": [
      "None\n",
      "2147483647\n",
      "9787\n",
      "inf\n",
      "(2+3j)\n",
      "()\n",
      "(1, True, 'dog')\n",
      "[1, True, 'dog']\n",
      "set(['a', 1])\n",
      "{'a': 'dog', True: 1, 7: 'seven'}\n"
     ]
    }
   ],
   "source": [
    "import sys\n",
    "\n",
    "# Null object\n",
    "N = None\n",
    "print N\n",
    "\n",
    "# max int\n",
    "i = sys.maxint\n",
    "print i\n",
    "\n",
    "# long int\n",
    "l = 9787L\n",
    "print l\n",
    "\n",
    "# float\n",
    "f = float('inf')\n",
    "print f\n",
    "\n",
    "# complex\n",
    "a = 2 + 3j\n",
    "print a\n",
    "\n",
    "# tuple (immutable)\n",
    "t = (1, True, 'dog')\n",
    "empty = ()\n",
    "print empty\n",
    "print t\n",
    "\n",
    "# list (mutable)\n",
    "l = [1, True, 'dog']\n",
    "print l\n",
    "\n",
    "# set (mutable)\n",
    "s = set([1, True, 'a'])\n",
    "print s\n",
    "\n",
    "# dictionary\n",
    "d = {'a': 'dog', 7:'seven', True: 1}\n",
    "print d"
   ]
  },
  {
   "cell_type": "code",
   "execution_count": 19,
   "metadata": {
    "collapsed": false
   },
   "outputs": [
    {
     "name": "stdout",
     "output_type": "stream",
     "text": [
      "1\n",
      "2025\n",
      "inf\n"
     ]
    }
   ],
   "source": [
    "a = 45\n",
    "b = 23\n",
    "# integer division rounded to minus infinity\n",
    "c = a // b\n",
    "print c\n",
    "# exponent\n",
    "d = a ** 2\n",
    "print d\n",
    "\n",
    "# biggest number\n",
    "n = float('inf')\n",
    "print n"
   ]
  },
  {
   "cell_type": "code",
   "execution_count": 20,
   "metadata": {
    "collapsed": false
   },
   "outputs": [
    {
     "name": "stdout",
     "output_type": "stream",
     "text": [
      "0.5\n"
     ]
    }
   ],
   "source": [
    "import math as m\n",
    "print m.cos(m.pi/3)"
   ]
  },
  {
   "cell_type": "code",
   "execution_count": 21,
   "metadata": {
    "collapsed": false
   },
   "outputs": [
    {
     "name": "stdout",
     "output_type": "stream",
     "text": [
      "0.5\n"
     ]
    }
   ],
   "source": [
    "from math import cos,pi\n",
    "print cos(pi/3)"
   ]
  },
  {
   "cell_type": "code",
   "execution_count": 24,
   "metadata": {
    "collapsed": false
   },
   "outputs": [
    {
     "name": "stdout",
     "output_type": "stream",
     "text": [
      "()\n",
      "(1,)\n",
      "(1, 2, 3)\n",
      "((1, 2), (3, 4))\n",
      "('a', 'b')\n"
     ]
    }
   ],
   "source": [
    "print () # the empty tuple\n",
    "print (1,) # \" note comma # one item tuple\n",
    "print (1, 2, 3) # multi-item tuple\n",
    "print ((1, 2), (3, 4)) # nested tuple\n",
    "print tuple(['a', 'b']) # conversion"
   ]
  },
  {
   "cell_type": "code",
   "execution_count": 26,
   "metadata": {
    "collapsed": false
   },
   "outputs": [
    {
     "name": "stdout",
     "output_type": "stream",
     "text": [
      "1\n",
      "2\n",
      "2\n",
      "1\n"
     ]
    }
   ],
   "source": [
    "a = 1; b = 2\n",
    "print a\n",
    "print b\n",
    "a, b = b, a # no need for a temp variable\n",
    "print a\n",
    "print b"
   ]
  },
  {
   "cell_type": "code",
   "execution_count": 30,
   "metadata": {
    "collapsed": false
   },
   "outputs": [
    {
     "name": "stdout",
     "output_type": "stream",
     "text": [
      "STRING\n",
      "fredwashere\n",
      "fredwashere\n",
      "spamspamspam\n",
      "5\n"
     ]
    }
   ],
   "source": [
    "print 'string'.upper() # STRING\n",
    "print 'fred'+'was'+'here' # concatenation\n",
    "print ''.join(['fred', 'was', 'here']) # ditto\n",
    "print 'spam' * 3 # replication\n",
    "x = 5\n",
    "print str(x) # conversion"
   ]
  },
  {
   "cell_type": "code",
   "execution_count": 34,
   "metadata": {
    "collapsed": false
   },
   "outputs": [
    {
     "name": "stdout",
     "output_type": "stream",
     "text": [
      "Hello World\n",
      "3.14159265359\n",
      "3.14\n",
      "+5.00\n",
      "3.00e+03\n",
      "05\n",
      "5xx\n",
      "1,000,000\n",
      "25.0%\n",
      "ab\n",
      "ba\n",
      "7\n"
     ]
    }
   ],
   "source": [
    "import math\n",
    "print 'Hello {}'.format('World')# 'Hello World'\n",
    "print '{}'.format(math.pi) # ' 3.14159265359'\n",
    "print '{0:.2f}'.format(math.pi) # '3.14'\n",
    "print '{0:+.2f}'.format(5) # '+5.00'\n",
    "print '{:.2e}'.format(3000) # '3.00e+03'\n",
    "print '{:0>2d}'.format(5) # '05' (left pad)\n",
    "print '{:x<3d}'.format(5) # '5xx' (rt. pad)\n",
    "print '{:,}'.format(1000000) # '1,000,000'\n",
    "print '{:.1%}'.format(0.25) # '25.0%'\n",
    "print '{0}{1}'.format('a', 'b') # 'ab'\n",
    "print '{1}{0}'.format('a', 'b') # 'ba'\n",
    "print '{num:}'.format(num=7) # '7' (named args"
   ]
  },
  {
   "cell_type": "code",
   "execution_count": 37,
   "metadata": {
    "collapsed": false
   },
   "outputs": [
    {
     "name": "stdout",
     "output_type": "stream",
     "text": [
      "[]\n",
      "['dog', 'cat', 'bird']\n",
      "[[1, 2], ['a', 'b']]\n",
      "[1, 2, 3, 4, 5, 6]\n",
      "[1, 2, 3, 1, 2, 3, 1, 2, 3, 1, 2, 3, 1, 2, 3, 1, 2, 3, 1, 2, 3, 1, 2, 3, 1, 2, 3, 1, 2, 3, 1, 2, 3, 1, 2, 3, 1, 2, 3, 1, 2, 3, 1, 2, 3, 1, 2, 3, 1, 2, 3, 1, 2, 3, 1, 2, 3, 1, 2, 3, 1, 2, 3, 1, 2, 3, 1, 2, 3, 1, 2, 3, 1, 2, 3, 1, 2, 3, 1, 2, 3, 1, 2, 3, 1, 2, 3, 1, 2, 3, 1, 2, 3, 1, 2, 3, 1, 2, 3, 1, 2, 3, 1, 2, 3, 1, 2, 3, 1, 2, 3, 1, 2, 3, 1, 2, 3, 1, 2, 3, 1, 2, 3, 1, 2, 3, 1, 2, 3, 1, 2, 3, 1, 2, 3, 1, 2, 3, 1, 2, 3, 1, 2, 3, 1, 2, 3, 1, 2, 3, 1, 2, 3, 1, 2, 3, 1, 2, 3, 1, 2, 3, 1, 2, 3, 1, 2, 3, 1, 2, 3, 1, 2, 3, 1, 2, 3, 1, 2, 3, 1, 2, 3, 1, 2, 3, 1, 2, 3, 1, 2, 3, 1, 2, 3, 1, 2, 3, 1, 2, 3, 1, 2, 3, 1, 2, 3, 1, 2, 3, 1, 2, 3, 1, 2, 3, 1, 2, 3, 1, 2, 3, 1, 2, 3, 1, 2, 3, 1, 2, 3, 1, 2, 3, 1, 2, 3, 1, 2, 3, 1, 2, 3, 1, 2, 3, 1, 2, 3, 1, 2, 3, 1, 2, 3, 1, 2, 3, 1, 2, 3, 1, 2, 3, 1, 2, 3, 1, 2, 3, 1, 2, 3, 1, 2, 3, 1, 2, 3, 1, 2, 3, 1, 2, 3, 1, 2, 3, 1, 2, 3, 1, 2, 3, 1, 2, 3, 1, 2, 3, 1, 2, 3, 1, 2, 3, 1, 2, 3, 1, 2, 3, 1, 2, 3, 1, 2, 3, 1, 2, 3, 1, 2, 3, 1, 2, 3, 1, 2, 3, 1, 2, 3, 1, 2, 3, 1, 2, 3, 1, 2, 3, 1, 2, 3, 1, 2, 3, 1, 2, 3, 1, 2, 3, 1, 2, 3, 1, 2, 3, 1, 2, 3, 1, 2, 3, 1, 2, 3, 1, 2, 3, 1, 2, 3, 1, 2, 3, 1, 2, 3, 1, 2, 3, 1, 2, 3, 1, 2, 3, 1, 2, 3, 1, 2, 3, 1, 2, 3, 1, 2, 3, 1, 2, 3, 1, 2, 3, 1, 2, 3, 1, 2, 3, 1, 2, 3, 1, 2, 3, 1, 2, 3, 1, 2, 3, 1, 2, 3, 1, 2, 3, 1, 2, 3, 1, 2, 3, 1, 2, 3, 1, 2, 3, 1, 2, 3, 1, 2, 3, 1, 2, 3, 1, 2, 3, 1, 2, 3, 1, 2, 3, 1, 2, 3, 1, 2, 3, 1, 2, 3, 1, 2, 3, 1, 2, 3, 1, 2, 3, 1, 2, 3, 1, 2, 3, 1, 2, 3, 1, 2, 3, 1, 2, 3, 1, 2, 3, 1, 2, 3, 1, 2, 3, 1, 2, 3, 1, 2, 3, 1, 2, 3, 1, 2, 3, 1, 2, 3, 1, 2, 3, 1, 2, 3, 1, 2, 3, 1, 2, 3, 1, 2, 3, 1, 2, 3, 1, 2, 3, 1, 2, 3, 1, 2, 3, 1, 2, 3, 1, 2, 3, 1, 2, 3, 1, 2, 3, 1, 2, 3, 1, 2, 3, 1, 2, 3, 1, 2, 3, 1, 2, 3, 1, 2, 3, 1, 2, 3, 1, 2, 3, 1, 2, 3, 1, 2, 3, 1, 2, 3, 1, 2, 3, 1, 2, 3, 1, 2, 3, 1, 2, 3, 1, 2, 3, 1, 2, 3, 1, 2, 3, 1, 2, 3, 1, 2, 3, 1, 2, 3, 1, 2, 3, 1, 2, 3, 1, 2, 3, 1, 2, 3, 1, 2, 3, 1, 2, 3, 1, 2, 3, 1, 2, 3, 1, 2, 3, 1, 2, 3, 1, 2, 3, 1, 2, 3, 1, 2, 3, 1, 2, 3, 1, 2, 3, 1, 2, 3, 1, 2, 3, 1, 2, 3, 1, 2, 3, 1, 2, 3, 1, 2, 3, 1, 2, 3, 1, 2, 3, 1, 2, 3, 1, 2, 3, 1, 2, 3, 1, 2, 3, 1, 2, 3, 1, 2, 3, 1, 2, 3, 1, 2, 3, 1, 2, 3, 1, 2, 3, 1, 2, 3, 1, 2, 3, 1, 2, 3, 1, 2, 3, 1, 2, 3, 1, 2, 3, 1, 2, 3, 1, 2, 3, 1, 2, 3, 1, 2, 3, 1, 2, 3, 1, 2, 3, 1, 2, 3, 1, 2, 3, 1, 2, 3, 1, 2, 3, 1, 2, 3, 1, 2, 3, 1, 2, 3, 1, 2, 3, 1, 2, 3, 1, 2, 3, 1, 2, 3, 1, 2, 3, 1, 2, 3, 1, 2, 3, 1, 2, 3, 1, 2, 3, 1, 2, 3, 1, 2, 3, 1, 2, 3, 1, 2, 3, 1, 2, 3, 1, 2, 3, 1, 2, 3, 1, 2, 3, 1, 2, 3, 1, 2, 3, 1, 2, 3, 1, 2, 3, 1, 2, 3, 1, 2, 3, 1, 2, 3, 1, 2, 3, 1, 2, 3, 1, 2, 3, 1, 2, 3, 1, 2, 3, 1, 2, 3, 1, 2, 3, 1, 2, 3, 1, 2, 3, 1, 2, 3, 1, 2, 3, 1, 2, 3, 1, 2, 3, 1, 2, 3, 1, 2, 3, 1, 2, 3, 1, 2, 3, 1, 2, 3, 1, 2, 3, 1, 2, 3, 1, 2, 3, 1, 2, 3, 1, 2, 3, 1, 2, 3, 1, 2, 3, 1, 2, 3, 1, 2, 3, 1, 2, 3, 1, 2, 3, 1, 2, 3, 1, 2, 3, 1, 2, 3, 1, 2, 3, 1, 2, 3, 1, 2, 3, 1, 2, 3, 1, 2, 3, 1, 2, 3, 1, 2, 3, 1, 2, 3, 1, 2, 3, 1, 2, 3, 1, 2, 3, 1, 2, 3, 1, 2, 3, 1, 2, 3, 1, 2, 3, 1, 2, 3, 1, 2, 3, 1, 2, 3, 1, 2, 3, 1, 2, 3, 1, 2, 3, 1, 2, 3, 1, 2, 3, 1, 2, 3, 1, 2, 3, 1, 2, 3, 1, 2, 3, 1, 2, 3, 1, 2, 3, 1, 2, 3, 1, 2, 3, 1, 2, 3, 1, 2, 3, 1, 2, 3, 1, 2, 3, 1, 2, 3, 1, 2, 3, 1, 2, 3, 1, 2, 3, 1, 2, 3, 1, 2, 3, 1, 2, 3, 1, 2, 3, 1, 2, 3, 1, 2, 3, 1, 2, 3, 1, 2, 3, 1, 2, 3, 1, 2, 3, 1, 2, 3, 1, 2, 3, 1, 2, 3, 1, 2, 3, 1, 2, 3, 1, 2, 3, 1, 2, 3, 1, 2, 3, 1, 2, 3, 1, 2, 3, 1, 2, 3, 1, 2, 3, 1, 2, 3, 1, 2, 3, 1, 2, 3, 1, 2, 3, 1, 2, 3, 1, 2, 3, 1, 2, 3, 1, 2, 3, 1, 2, 3, 1, 2, 3, 1, 2, 3, 1, 2, 3, 1, 2, 3, 1, 2, 3, 1, 2, 3, 1, 2, 3, 1, 2, 3, 1, 2, 3, 1, 2, 3, 1, 2, 3, 1, 2, 3, 1, 2, 3, 1, 2, 3, 1, 2, 3, 1, 2, 3, 1, 2, 3, 1, 2, 3, 1, 2, 3, 1, 2, 3, 1, 2, 3, 1, 2, 3, 1, 2, 3, 1, 2, 3, 1, 2, 3, 1, 2, 3, 1, 2, 3, 1, 2, 3, 1, 2, 3, 1, 2, 3, 1, 2, 3, 1, 2, 3, 1, 2, 3, 1, 2, 3, 1, 2, 3, 1, 2, 3, 1, 2, 3, 1, 2, 3, 1, 2, 3, 1, 2, 3, 1, 2, 3, 1, 2, 3, 1, 2, 3, 1, 2, 3, 1, 2, 3, 1, 2, 3, 1, 2, 3, 1, 2, 3, 1, 2, 3, 1, 2, 3, 1, 2, 3, 1, 2, 3, 1, 2, 3, 1, 2, 3, 1, 2, 3, 1, 2, 3, 1, 2, 3, 1, 2, 3, 1, 2, 3, 1, 2, 3, 1, 2, 3, 1, 2, 3, 1, 2, 3, 1, 2, 3, 1, 2, 3, 1, 2, 3, 1, 2, 3, 1, 2, 3, 1, 2, 3, 1, 2, 3, 1, 2, 3]\n",
      "['a', 'b', 'c']\n"
     ]
    }
   ],
   "source": [
    "print [] # the empty list\n",
    "print ['dog', 'cat', 'bird'] # simple list\n",
    "print [[1, 2], ['a', 'b']] # nested lists\n",
    "print [1, 2, 3] + [4, 5, 6] # concatenation\n",
    "print [1, 2, 3] * 456 # replication\n",
    "x = 'abc'\n",
    "print list(x) # converint rsion"
   ]
  },
  {
   "cell_type": "code",
   "execution_count": 39,
   "metadata": {
    "collapsed": false
   },
   "outputs": [
    {
     "name": "stdout",
     "output_type": "stream",
     "text": [
      "[(2+1j), (3+2j), (3+1j)]\n"
     ]
    }
   ],
   "source": [
    "# list comprehensive (can be nested) \n",
    "t3 = [x*3 for x in [5, 6, 7]] # [15, 18, 21]\n",
    "z = [complex(x, y) for x in range(0, 4, 1)\n",
    "for y in range(4, 0, -1) if x > y]\n",
    "print z\n",
    "# z --> [(2+1j), (3+2j), (3+1j)]"
   ]
  },
  {
   "cell_type": "code",
   "execution_count": 42,
   "metadata": {
    "collapsed": false
   },
   "outputs": [
    {
     "name": "stdout",
     "output_type": "stream",
     "text": [
      "dog\n",
      "cat\n",
      "turt:le\n",
      "(0, 'dog')\n",
      "(1, 'cat')\n",
      "(2, 'turt:le')\n"
     ]
    }
   ],
   "source": [
    "# Iterating lists\n",
    "L = ['dog', 'cat', 'turt:le']\n",
    "for item in L:\n",
    "    print (item)\n",
    "for index, item in enumerate(L):\n",
    "    print (index, item)"
   ]
  },
  {
   "cell_type": "code",
   "execution_count": 49,
   "metadata": {
    "collapsed": false
   },
   "outputs": [
    {
     "name": "stdout",
     "output_type": "stream",
     "text": [
      "1\n",
      "1\n"
     ]
    }
   ],
   "source": [
    "#Searching lists\n",
    "L = ['dog', 'cat', 'turtle']; value = 'cat' # chnage value to 'o'\n",
    "if value in L:\n",
    "    count = L.count(value)\n",
    "    print count\n",
    "    first_occurrence = L.index(value)\n",
    "    print first_occurrence\n",
    "if value not in L:\n",
    "    print 'list is missing {}'.format(value)"
   ]
  },
  {
   "cell_type": "code",
   "execution_count": 50,
   "metadata": {
    "collapsed": false
   },
   "outputs": [
    {
     "name": "stdout",
     "output_type": "stream",
     "text": [
      "2\n",
      "[1, 2]\n",
      "[0, 1, 2]\n",
      "[6, 7, 8]\n",
      "[0, 1, 2, 3, 4, 5]\n",
      "[0, 1, 2, 3, 4, 5, 6, 7, 8]\n",
      "[1, 2, 3, 4, 5, 6, 7]\n",
      "[0, 3, 6]\n",
      "[1, 3]\n"
     ]
    }
   ],
   "source": [
    "# List slicing\n",
    "x = [0, 1, 2, 3, 4, 5, 6, 7, 8] # play data\n",
    "print x[2] # 3rd element - reference not slice\n",
    "print x[1:3] # 2nd to 3rd element (1, 2)\n",
    "print x[:3] # The first three elements (0,1,2)\n",
    "print x[-3:] # last three elements\n",
    "print x[:-3] # all but the last three elements\n",
    "print x[:] # every element of x – copies x\n",
    "print x[1:-1] # all but first and last element\n",
    "print x[::3] # (0, 3, 6, 9, …) 1st then every 3rd\n",
    "print x[1:5:2]# (1,3) start 1, stop >= 5, every2 nd"
   ]
  },
  {
   "cell_type": "code",
   "execution_count": 52,
   "metadata": {
    "collapsed": false
   },
   "outputs": [
    {
     "name": "stdout",
     "output_type": "stream",
     "text": [
      "set([])\n",
      "['red', 'white', 'blue']\n",
      "set(['blue', 'white', 'red'])\n"
     ]
    }
   ],
   "source": [
    "a = set() # empty set\n",
    "print a\n",
    "x = ['red', 'white', 'blue'] # simple set\n",
    "print x\n",
    "a = set(x) # convert list\n",
    "print a"
   ]
  },
  {
   "cell_type": "code",
   "execution_count": 55,
   "metadata": {
    "collapsed": false
   },
   "outputs": [
    {
     "name": "stdout",
     "output_type": "stream",
     "text": [
      "set(['H', 'C', 'J', 'D'])\n",
      "set([(0, 1), (-1, 1), (0, 0), (-1, 0), (-1, -1), (0, -1), (1, 0), (1, -1), (1, 1)])\n"
     ]
    }
   ],
   "source": [
    "# Set comphrensions\n",
    "# a set of selected letters...\n",
    "s = {e for e in 'ABCHJADC' if e not in 'AB'}\n",
    "print s\n",
    "# --> {'H', 'C', 'J', 'D'}\n",
    "# a set of tuples ...\n",
    "s = {(x,y) for x in range(-1,2)\n",
    "                for y in range (-1,2)}\n",
    "print s"
   ]
  },
  {
   "cell_type": "code",
   "execution_count": 60,
   "metadata": {
    "collapsed": false
   },
   "outputs": [
    {
     "name": "stdout",
     "output_type": "stream",
     "text": [
      "{}\n",
      "{1: 1, 2: 4, 3: 9}\n",
      "{0: 'alpha', 1: 'beta', 2: 'gamma', 3: 'delta'}\n",
      "a=apple,b=bird,c=cat,d=dog,e=egg\n",
      "{'a': 'apple', 'c': 'cat', 'b': 'bird', 'e': 'egg', 'd': 'dog'}\n"
     ]
    }
   ],
   "source": [
    "# Dictionary (indexed, unordered map-container)\n",
    "# A mutable hash map of unique key=value pairs.\n",
    "print {} # empty dictionary\n",
    "print {1: 1, 2: 4, 3: 9} # simple dict\n",
    "#a = dict(x) # convert paired data\n",
    "# next example – create from a list\n",
    "l = ['alpha', 'beta', 'gamma', 'delta']\n",
    "print dict(zip(range(len(l)), l))\n",
    "# Example using string & generator\n",
    "# expression\n",
    "s = 'a=apple,b=bird,c=cat,d=dog,e=egg'\n",
    "print s\n",
    "a = dict(i.split(\"=\") for i in s.split(\",\"))\n",
    "print a\n",
    "# {'a': 'apple', 'c': 'cat', 'b': 'bird',\n",
    "# 'e': 'egg', 'd': 'dog'}"
   ]
  },
  {
   "cell_type": "code",
   "execution_count": 2,
   "metadata": {
    "collapsed": false
   },
   "outputs": [
    {
     "name": "stdout",
     "output_type": "stream",
     "text": [
      "{0: 0, 1: 1, 2: 4, 3: 9, 4: 16, 5: 25, 6: 36}\n",
      "{1: 1, 3: 9, 5: 25}\n",
      "{0: 0, 1: 1, 4: 2, 9: 3, 16: 4, 25: 5, 36: 6}\n",
      "{0: 2, 1: 3, 2: 2, 3: 1, 7: 4, 9: 3, 22: 3}\n"
     ]
    }
   ],
   "source": [
    "#Dictionary comprehensions\n",
    "#Conceptually like list comprehensions; but it constructs a\n",
    "#dictionary rather than a list\n",
    "a = { n: n*n for n in range(7) }\n",
    "print a\n",
    "# a -> {0:0, 1:1, 2:4, 3:9, 4:16, 5:25,6:36}\n",
    "odd_sq = { n: n*n for n in range(7) if n%2 }\n",
    "print odd_sq\n",
    "# odd_sq -> {1: 1, 3: 9, 5: 25}\n",
    "# next example -> swaps the key:value pairs\n",
    "a = { val: key for key, val in a.items() }\n",
    "print a\n",
    "# next example -> count list occurrences\n",
    "l = [1,2,9,2,7,3,7,1,22,1,7,7,22,22,9,0,9,0]\n",
    "c = { key: l.count(key) for key in set(l) }\n",
    "print c\n",
    "# c -> {0:2, 1:3, 2:2, 3:1, 7:4, 9:3, 22:3}"
   ]
  },
  {
   "cell_type": "code",
   "execution_count": 3,
   "metadata": {
    "collapsed": false
   },
   "outputs": [
    {
     "name": "stdout",
     "output_type": "stream",
     "text": [
      "{0: 2, 1: 3, 2: 2, 3: 1, 7: 4, 9: 3, 22: 3}\n",
      "{0: 2, 1: 3, 2: 2, 3: 1, 7: 4, 9: 3, 22: 3}\n",
      "{0: 2, 1: 3, 2: 2, 3: 1, 7: 4, 9: 3, 22: 3}\n",
      "{0: 2, 1: 3, 2: 2, 3: 1, 7: 4, 9: 3, 22: 3}\n",
      "{0: 2, 1: 3, 2: 2, 3: 1, 7: 4, 9: 3, 22: 3}\n",
      "{0: 2, 1: 3, 2: 2, 3: 1, 7: 4, 9: 3, 22: 3}\n",
      "{0: 2, 1: 3, 2: 2, 3: 1, 7: 4, 9: 3, 22: 3}\n",
      "(0, 2)\n",
      "(1, 3)\n",
      "(2, 2)\n",
      "(3, 1)\n",
      "(7, 4)\n",
      "(9, 3)\n",
      "(22, 3)\n"
     ]
    }
   ],
   "source": [
    "# iterating a dictionary\n",
    "for key in c:\n",
    "    print (c)\n",
    "for key, value in c.items():\n",
    "    print (key,value)"
   ]
  },
  {
   "cell_type": "code",
   "execution_count": 5,
   "metadata": {
    "collapsed": false
   },
   "outputs": [
    {
     "name": "stdout",
     "output_type": "stream",
     "text": [
      "2\n"
     ]
    }
   ],
   "source": [
    "# searching a dictionary\n",
    "if 2 in c:\n",
    "    print(2)"
   ]
  },
  {
   "cell_type": "code",
   "execution_count": 6,
   "metadata": {
    "collapsed": false
   },
   "outputs": [
    {
     "name": "stdout",
     "output_type": "stream",
     "text": [
      "64\n"
     ]
    },
    {
     "data": {
      "text/plain": [
       "True"
      ]
     },
     "execution_count": 6,
     "metadata": {},
     "output_type": "execute_result"
    }
   ],
   "source": [
    "# Lambda (inline expression) functions:\n",
    "g = lambda x: x ** 2 # Note: no return\n",
    "print(g(8)) # prints 64\n",
    "mul = lambda a, b: a * b # two arguments\n",
    "mul(4, 5) == 4 * 5 # --> True"
   ]
  },
  {
   "cell_type": "code",
   "execution_count": 8,
   "metadata": {
    "collapsed": false
   },
   "outputs": [
    {
     "data": {
      "text/plain": [
       "10.000009999444615"
      ]
     },
     "execution_count": 8,
     "metadata": {},
     "output_type": "execute_result"
    }
   ],
   "source": [
    "#Closures\n",
    "#Closures are functions that have inner functions with\n",
    "#data fixed in the inner function by the lexical scope of\n",
    "#the outer. They are useful for avoiding hard constants.\n",
    "#Wikipedia has a derivative function for changeable\n",
    "#values of dx, using a closure.\n",
    "\n",
    "def derivative(f, dx):\n",
    "\n",
    "    \"\"\"Return a function that approximates\n",
    "    the derivative of f using an interval\n",
    "    of dx, which should be appropriately\n",
    "    small.\n",
    "    \"\"\"\n",
    "\n",
    "    def _function(x):\n",
    "        return (f(x + dx) - f(x)) / dx\n",
    "    return _function #from derivative(f, dx)\n",
    "\n",
    "f_dash_x = derivative(lambda x: x*x,0.00001)\n",
    "f_dash_x(5) # yields approx. 10 (ie. y'=2x)"
   ]
  },
  {
   "cell_type": "code",
   "execution_count": 10,
   "metadata": {
    "collapsed": false
   },
   "outputs": [
    {
     "name": "stdout",
     "output_type": "stream",
     "text": [
      "X\n",
      "Y\n"
     ]
    }
   ],
   "source": [
    "\"\"\"Iterators\n",
    "Objects with a next() (Python 2) or __next__() (Python\n",
    "3) method, that:\n",
    "• returns the next value in the iteration\n",
    "• updates the internal note of the next value\n",
    "• raises a StopIteration exception when done\n",
    "Note: with the loop  for x in y: if y is not an iterator;\n",
    "Python calls iter() to get one. With each loop, it calls\n",
    "next() on the iterator until a StopIteration exception.\n",
    "\"\"\"\n",
    "\n",
    "x = iter('XY') # iterate a string by hand\n",
    "print (next(x)) # --> X\n",
    "print (next(x)) # --> Y\n",
    "#print (next(x)) # --> StopIteration"
   ]
  },
  {
   "cell_type": "code",
   "execution_count": 11,
   "metadata": {
    "collapsed": false
   },
   "outputs": [
    {
     "data": {
      "text/plain": [
       "[1, 1, 2, 3, 5, 8]"
      ]
     },
     "execution_count": 11,
     "metadata": {},
     "output_type": "execute_result"
    }
   ],
   "source": [
    "\"\"\"Generators\n",
    "Generator functions are resumable functions that work\n",
    "like iterators. They can be more space or time efficient\n",
    "than iterating over a list, (especially a very large list), as\n",
    "they only produce items as they are needed.\n",
    "\"\"\"\n",
    "\n",
    "def fib(max=None):\n",
    "    \"\"\" generator for Fibonacci sequence\"\"\"\n",
    "    a, b = 0, 1\n",
    "    while max is None or b <= max:\n",
    "        yield b # \" yield is like return\n",
    "        a, b = b, a+b\n",
    "\n",
    "[i for i in fib(10)] # ! [1, 1, 2, 3, 5, 8]"
   ]
  },
  {
   "cell_type": "code",
   "execution_count": 14,
   "metadata": {
    "collapsed": false
   },
   "outputs": [
    {
     "name": "stdout",
     "output_type": "stream",
     "text": [
      "0\n",
      "5\n",
      "6\n"
     ]
    }
   ],
   "source": [
    "#Messaging the generator\n",
    "def resetableCounter(max=None):\n",
    "    j = 0\n",
    "    while max is None or j <= max:\n",
    "        x = yield j # \" x gets the sent arg\n",
    "        j = j+1 if x is None else x\n",
    "\n",
    "x = resetableCounter(10)\n",
    "\n",
    "print x.send(None) # ! 0\n",
    "print x.send(5) # ! 5\n",
    "print x.send(None) # ! 6\n",
    "#print x.send(11) # ! StopIteration"
   ]
  },
  {
   "cell_type": "code",
   "execution_count": 15,
   "metadata": {
    "collapsed": false
   },
   "outputs": [
    {
     "data": {
      "text/plain": [
       "[0, 1, 2, 3, 4, 5, 6, 7, 8, 9]"
      ]
     },
     "execution_count": 15,
     "metadata": {},
     "output_type": "execute_result"
    }
   ],
   "source": [
    "\"\"\"Generator expressions\n",
    "Generator expressions build generators, just like\n",
    "building a list from a comprehension. You can turn a list\n",
    "comprehension into a generator expression simply by\n",
    "replacing the square brackets [] with parentheses ().\n",
    "\"\"\"\n",
    "[i for i in xrange(10)] # list comprehension\n",
    "list(i for i in xrange(10)) # generated list"
   ]
  },
  {
   "cell_type": "code",
   "execution_count": 16,
   "metadata": {
    "collapsed": false
   },
   "outputs": [
    {
     "name": "stdout",
     "output_type": "stream",
     "text": [
      "(x=-1.0, y=-1.0)\n",
      "(1.4142135623730951, -2.356194490192345)\n",
      "(x=-1.0, y=0.0)\n",
      "(1.0, 3.141592653589793)\n",
      "(x=-1.0, y=1.0)\n",
      "(1.4142135623730951, 2.356194490192345)\n",
      "(x=0.0, y=-1.0)\n",
      "(1.0, -1.5707963267948966)\n",
      "(x=0.0, y=0.0)\n",
      "(0.0, 0.0)\n",
      "(x=0.0, y=1.0)\n",
      "(1.0, 1.5707963267948966)\n",
      "(x=1.0, y=-1.0)\n",
      "(1.4142135623730951, -0.7853981633974483)\n",
      "(x=1.0, y=0.0)\n",
      "(1.0, 0.0)\n",
      "(x=1.0, y=1.0)\n",
      "(1.4142135623730951, 0.7853981633974483)\n",
      "9\n",
      "9\n"
     ]
    }
   ],
   "source": [
    "import math\n",
    "class Point:\n",
    "    # static class variable, point count\n",
    "    count = 0\n",
    "    def __init__(self, x, y):\n",
    "        self.x = float(x)\n",
    "        self.y = float(y)\n",
    "        Point.count += 1\n",
    "    def __str__(self):\n",
    "        return \\\n",
    "        '(x={}, y={})'.format(self.x,self.y)\n",
    "    def to_polar(self):\n",
    "        r = math.sqrt(self.x**2 + self.y**2)\n",
    "        theta = math.atan2(self.y, self.x)\n",
    "        return(r, theta)\n",
    "    # static method – trivial example ...\n",
    "    def static_eg(n):\n",
    "        print ('{}'.format(n))\n",
    "    static_eg = staticmethod(static_eg)\n",
    "\n",
    "# Instantiate 9 points & get polar coords\n",
    "for x in range(-1, 2):\n",
    "    for y in range(-1, 2):\n",
    "        p = Point(x, y)\n",
    "        print (p) # uses __str__() method\n",
    "        print (p.to_polar())\n",
    "print (Point.count) # check static variable\n",
    "Point.static_eg(9) # check static method"
   ]
  },
  {
   "cell_type": "code",
   "execution_count": 17,
   "metadata": {
    "collapsed": true
   },
   "outputs": [],
   "source": [
    "#Getters and setters\n",
    "#Although class attributes can be directly accessed, the\n",
    "#property function creates a property manager.\n",
    "class Example:\n",
    "    def __init__(self):\n",
    "        self._x = None\n",
    "    def getx(self):\n",
    "        return self._x\n",
    "    def setx(self, value):\n",
    "        self._x = value\n",
    "    def delx(self):\n",
    "        del self._x\n",
    "    x = property(getx, setx, delx,\"Doc txt\")"
   ]
  },
  {
   "cell_type": "code",
   "execution_count": 19,
   "metadata": {
    "collapsed": false
   },
   "outputs": [],
   "source": [
    "#Which can be rewritten with decorators as:\n",
    "class Example:\n",
    "    def __init__(self):\n",
    "        self._x = None\n",
    "\n",
    "    @property\n",
    "    def x(self):\n",
    "        \"\"\"Doc txt: I'm the 'x' property.\"\"\"\n",
    "        return self._x\n",
    "\n",
    "    @x.setter\n",
    "    def x(self, value):\n",
    "        self._x = value\n",
    "\n",
    "    @x.deleter\n",
    "    def x(self):\n",
    "        del self._x"
   ]
  },
  {
   "cell_type": "code",
   "execution_count": null,
   "metadata": {
    "collapsed": true
   },
   "outputs": [],
   "source": []
  }
 ],
 "metadata": {
  "kernelspec": {
   "display_name": "Python 2",
   "language": "python",
   "name": "python2"
  },
  "language_info": {
   "codemirror_mode": {
    "name": "ipython",
    "version": 2
   },
   "file_extension": ".py",
   "mimetype": "text/x-python",
   "name": "python",
   "nbconvert_exporter": "python",
   "pygments_lexer": "ipython2",
   "version": "2.7.10"
  }
 },
 "nbformat": 4,
 "nbformat_minor": 0
}
