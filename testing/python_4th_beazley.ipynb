{
 "cells": [
  {
   "cell_type": "markdown",
   "metadata": {},
   "source": [
    "#Python Essential Reference \n",
    "### 4th ed. (D. Beazley)\n",
    "\n",
    "Notes & test code from book\n"
   ]
  },
  {
   "cell_type": "markdown",
   "metadata": {},
   "source": [
    "## Chapter 1"
   ]
  },
  {
   "cell_type": "markdown",
   "metadata": {},
   "source": [
    "__Running Python__\n",
    "\n",
    "_ holds the result of the last operation"
   ]
  },
  {
   "cell_type": "code",
   "execution_count": 4,
   "metadata": {
    "collapsed": false
   },
   "outputs": [
    {
     "data": {
      "text/plain": [
       "10657.62"
      ]
     },
     "execution_count": 4,
     "metadata": {},
     "output_type": "execute_result"
    }
   ],
   "source": [
    "6000 + 4523.50 + 134.12"
   ]
  },
  {
   "cell_type": "code",
   "execution_count": 5,
   "metadata": {
    "collapsed": false
   },
   "outputs": [
    {
     "data": {
      "text/plain": [
       "18849.940000000002"
      ]
     },
     "execution_count": 5,
     "metadata": {},
     "output_type": "execute_result"
    }
   ],
   "source": [
    " _ + 8192.32"
   ]
  },
  {
   "cell_type": "markdown",
   "metadata": {},
   "source": [
    "*******************************\n",
    "\n",
    "On UNIX, you can use  #! on the first line of the program, like this:\n",
    "\n",
    "```python\n",
    "#!/usr/bin/env python\n",
    "print \"Hello World\"\n",
    "```"
   ]
  },
  {
   "cell_type": "markdown",
   "metadata": {},
   "source": [
    "*******************************\n",
    "\n",
    "On UNIX, EOF (end of file) is Ctrl+D;\n",
    "on Windows, it’s Ctrl+Z.\n",
    "\n",
    "A program can request to exit by raising the  SystemExit\n",
    "exception.\n",
    "\n",
    "`raise SystemExit`"
   ]
  },
  {
   "cell_type": "markdown",
   "metadata": {},
   "source": [
    "__File Input and Output__\n",
    "\n",
    "To make the output of a program go to a file, you can supply a file to the  print state-\n",
    "ment using  >> , as shown in the following example:\n",
    "\n",
    "```python\n",
    "f = open(\"out\",\"w\") # Open file for writing\n",
    "while year <= numyears:\n",
    "principal = principal * (1 + rate)\n",
    "print >>f,\"%3d %0.2f\" % (year,principal)\n",
    "year += 1\n",
    "f.close()\n",
    "```\n",
    "\n",
    "The >> syntax only works in Python 2. If you are using Python 3, change the  print\n",
    "statement to the following:\n",
    "\n",
    "`print(\"%3d %0.2f\" % (year,principal),file=f)`"
   ]
  },
  {
   "cell_type": "markdown",
   "metadata": {},
   "source": [
    "*******************************\n",
    "\n",
    "For example, if you wanted to read user input interactively, you can read from the file  `sys.stdin` . If you want to write data\n",
    "to the screen, you can write to  `sys.stdout` , which is the same file used to output data produced by the  print statement. For example:\n",
    "\n",
    "```python\n",
    "import sys\n",
    "sys.stdout.write(\"Enter your name :\")\n",
    "name = sys.stdin.readline()\n",
    "```\n",
    "\n",
    "In Python 2, this code can also be shortened to the following:\n",
    "\n",
    "`name = raw_input(\"Enter your name :\")`\n",
    "\n",
    "In Python 3, the  `raw_input()` function is called  `input()` , but it works in exactly the same manner."
   ]
  },
  {
   "cell_type": "markdown",
   "metadata": {},
   "source": [
    "__Strings__"
   ]
  },
  {
   "cell_type": "code",
   "execution_count": 7,
   "metadata": {
    "collapsed": false
   },
   "outputs": [
    {
     "name": "stdout",
     "output_type": "stream",
     "text": [
      "o\n"
     ]
    }
   ],
   "source": [
    "a = \"Hello World\"\n",
    "b = a[4] # b = 'o'\n",
    "print b"
   ]
  },
  {
   "cell_type": "code",
   "execution_count": 8,
   "metadata": {
    "collapsed": false
   },
   "outputs": [
    {
     "name": "stdout",
     "output_type": "stream",
     "text": [
      "Hello\n",
      "World\n",
      "lo Wo\n"
     ]
    }
   ],
   "source": [
    "c = a[:5] # c = \"Hello\"\n",
    "d = a[6:] # d = \"World\"\n",
    "e = a[3:8] # e = \"lo Wo\"\n",
    "print c\n",
    "print d\n",
    "print e"
   ]
  },
  {
   "cell_type": "markdown",
   "metadata": {},
   "source": [
    "`+` is concatenate object"
   ]
  },
  {
   "cell_type": "code",
   "execution_count": 9,
   "metadata": {
    "collapsed": false
   },
   "outputs": [
    {
     "name": "stdout",
     "output_type": "stream",
     "text": [
      "Hello World This is a test\n"
     ]
    }
   ],
   "source": [
    "g = a + \" This is a test\" # + is concatenate object\n",
    "print g"
   ]
  },
  {
   "cell_type": "markdown",
   "metadata": {},
   "source": [
    "Although `str()` and `repr()` both create strings, their output is usually slightly different. `str()` produces the output that you get when you use the  print statement, whereas  `repr()` creates a string that you type into a program to exactly represent the value of an object. For example:"
   ]
  },
  {
   "cell_type": "code",
   "execution_count": 12,
   "metadata": {
    "collapsed": false
   },
   "outputs": [
    {
     "data": {
      "text/plain": [
       "'3.4'"
      ]
     },
     "execution_count": 12,
     "metadata": {},
     "output_type": "execute_result"
    }
   ],
   "source": [
    "x = 3.4\n",
    "str(x)"
   ]
  },
  {
   "cell_type": "code",
   "execution_count": 14,
   "metadata": {
    "collapsed": false
   },
   "outputs": [
    {
     "data": {
      "text/plain": [
       "'3.4'"
      ]
     },
     "execution_count": 14,
     "metadata": {},
     "output_type": "execute_result"
    }
   ],
   "source": [
    "repr(x) # should be '3.39999999999'"
   ]
  },
  {
   "cell_type": "markdown",
   "metadata": {},
   "source": [
    "__Lists__"
   ]
  },
  {
   "cell_type": "markdown",
   "metadata": {},
   "source": [
    "Use the plus ( + ) operator to concatenate lists:"
   ]
  },
  {
   "cell_type": "code",
   "execution_count": 1,
   "metadata": {
    "collapsed": false
   },
   "outputs": [
    {
     "name": "stdout",
     "output_type": "stream",
     "text": [
      "[1, 2, 3, 4, 5]\n"
     ]
    }
   ],
   "source": [
    "a = [1,2,3] + [4,5] # Result is [1,2,3,4,5]\n",
    "print a"
   ]
  },
  {
   "cell_type": "code",
   "execution_count": 2,
   "metadata": {
    "collapsed": false
   },
   "outputs": [
    {
     "name": "stdout",
     "output_type": "stream",
     "text": [
      "[1, 'Dave', 3.14, ['Mark', 7, 9, [100, 101]], 10]\n"
     ]
    }
   ],
   "source": [
    "a = [1,\"Dave\",3.14, [\"Mark\", 7, 9, [100,101]], 10]\n",
    "print a"
   ]
  },
  {
   "cell_type": "markdown",
   "metadata": {},
   "source": [
    "Items contained in nested lists are accessed by applying more than one indexing operation, as follows:"
   ]
  },
  {
   "cell_type": "code",
   "execution_count": 3,
   "metadata": {
    "collapsed": false
   },
   "outputs": [
    {
     "name": "stdout",
     "output_type": "stream",
     "text": [
      "Dave\n",
      "9\n",
      "101\n"
     ]
    }
   ],
   "source": [
    "print a[1] # Returns \"Dave\"\n",
    "print a[3][2] # Returns 9\n",
    "print a[3][3][1] # Returns 101"
   ]
  },
  {
   "cell_type": "markdown",
   "metadata": {},
   "source": [
    "The first line of this program uses the  import statement to load the  `sys` module from the Python library.This module is being loaded in order to obtain command-line arguments.\n",
    "The `open()` function uses a filename that has been supplied as a command-line option and placed in the list  `sys.argv` .The  `readlines()` method reads all the input lines into a list of strings.\n",
    "The expression  `[float(line) for line in lines]` constructs a new list by looping over all the strings in the list  `lines` and applying the function `float()` to each element.This particularly powerful method of constructing a list is known as a __list comprehension__. Because the lines in a file can also be read using a  `for` loop, the program can be shortened by converting values using a single statement like this:\n",
    "\n",
    "`fvalues = [float(line) for line in open(sys.argv[1])]`\n",
    "\n",
    "After the input lines have been converted into a list of floating-point numbers, the\n",
    "built-in  `min()` and `max()` functions compute the minimum and maximum values."
   ]
  },
  {
   "cell_type": "code",
   "execution_count": 5,
   "metadata": {
    "collapsed": false
   },
   "outputs": [
    {
     "name": "stdout",
     "output_type": "stream",
     "text": [
      "Please supply a filename\n"
     ]
    },
    {
     "ename": "SystemExit",
     "evalue": "1",
     "output_type": "error",
     "traceback": [
      "An exception has occurred, use %tb to see the full traceback.\n",
      "\u001b[1;31mSystemExit\u001b[0m\u001b[1;31m:\u001b[0m 1\n"
     ]
    },
    {
     "name": "stderr",
     "output_type": "stream",
     "text": [
      "To exit: use 'exit', 'quit', or Ctrl-D.\n"
     ]
    }
   ],
   "source": [
    "import sys # Load the sys module\n",
    "if len(sys.argv) != 2: # Check number of command line arguments\n",
    "    print \"Please supply a filename\"\n",
    "    raise SystemExit(1)\n",
    "f = open(sys.argv[1]) # Filename on the command line\n",
    "lines = f.readlines() # Read all lines into a list\n",
    "f.close()\n",
    "\n",
    "# Convert all of the input values from strings to floats\n",
    "fvalues = [float(line) for line in lines]\n",
    "\n",
    "# Print min and max values\n",
    "print \"The minimum value is \", min(fvalues)\n",
    "print \"The maximum value is \", max(fvalues)"
   ]
  },
  {
   "cell_type": "markdown",
   "metadata": {},
   "source": [
    "__Tuples__"
   ]
  },
  {
   "cell_type": "markdown",
   "metadata": {},
   "source": [
    "Python often recognizes that a tuple is intended even if the parentheses are missing:"
   ]
  },
  {
   "cell_type": "code",
   "execution_count": 3,
   "metadata": {
    "collapsed": false
   },
   "outputs": [
    {
     "name": "stdout",
     "output_type": "stream",
     "text": [
      "('GOOG', 100, 490.1)\n",
      "('www.python.org', 80)\n"
     ]
    }
   ],
   "source": [
    "stock = 'GOOG', 100, 490.10\n",
    "address = 'www.python.org',80\n",
    "print stock\n",
    "print address"
   ]
  },
  {
   "cell_type": "code",
   "execution_count": 5,
   "metadata": {
    "collapsed": false
   },
   "outputs": [
    {
     "name": "stdout",
     "output_type": "stream",
     "text": [
      "()\n",
      "(78,)\n",
      "(78,)\n"
     ]
    }
   ],
   "source": [
    "a = () # 0-tuple (empty tuple)\n",
    "b = (78,) # 1-tuple (note the trailing comma)\n",
    "c = 78, # 1-tuple (note the trailing comma)\n",
    "print a\n",
    "print b\n",
    "print c"
   ]
  },
  {
   "cell_type": "markdown",
   "metadata": {},
   "source": [
    "The values in a tuple can be extracted by numerical index just like a list. However, it is\n",
    "more common to unpack tuples into a set of variables like this:\n",
    "\n",
    "```\n",
    "name, shares, price = stock\n",
    "host, port = address\n",
    "first_name, last_name, phone = person\n",
    "```"
   ]
  },
  {
   "cell_type": "markdown",
   "metadata": {},
   "source": [
    "Although tuples support most of the same operations as lists (such as indexing, slicing,\n",
    "and concatenation), the contents of a tuple cannot be modified after creation (that is,\n",
    "you cannot replace, delete, or append new elements to an existing tuple).This reflects\n",
    "the fact that a tuple is best viewed as a single object consisting of several parts, not as a\n",
    "collection of distinct objects to which you might insert or remove items.\n",
    "Because there is so much overlap between tuples and lists, some programmers are\n",
    "inclined to ignore tuples altogether and simply use lists because they seem to be more\n",
    "flexible.Although this works, it wastes memory if your program is going to create a\n",
    "large number of small lists (that is, each containing fewer than a dozen items).This is\n",
    "because lists slightly overallocate memory to optimize the performance of operations\n",
    "that add new items. Because tuples are immutable, they use a more compact representa-\n",
    "tion where there is no extra space."
   ]
  },
  {
   "cell_type": "markdown",
   "metadata": {},
   "source": [
    "```\n",
    ">>> portfolio[0]\n",
    "('GOOG', 100, 490.10)\n",
    ">>> portfolio[1]\n",
    "('MSFT', 50, 54.23)\n",
    ">>>\n",
    "```\n",
    "\n",
    "Individual items of data can be accessed like this:\n",
    "\n",
    "```\n",
    ">>> portfolio[1][1]\n",
    "50\n",
    ">>> portfolio[1][2]\n",
    "54.23\n",
    ">>>\n",
    "```\n",
    "\n",
    "Here’s an easy way to loop over all of the records and expand fields into a set of\n",
    "variables:\n",
    "\n",
    "```\n",
    "total = 0.0\n",
    "for name, shares, price in portfolio:\n",
    "    total += shares * price\n",
    "```"
   ]
  },
  {
   "cell_type": "markdown",
   "metadata": {},
   "source": [
    "__Sets__"
   ]
  },
  {
   "cell_type": "code",
   "execution_count": 6,
   "metadata": {
    "collapsed": false
   },
   "outputs": [
    {
     "name": "stdout",
     "output_type": "stream",
     "text": [
      "set([9, 10, 3, 5])\n",
      "set(['H', 'e', 'l', 'o'])\n"
     ]
    }
   ],
   "source": [
    "s = set([3,5,9,10]) # Create a set of numbers\n",
    "t = set(\"Hello\") # Create a set of unique characters\n",
    "print s\n",
    "print t"
   ]
  },
  {
   "cell_type": "markdown",
   "metadata": {},
   "source": [
    "Unlike lists and tuples, sets are unordered and cannot be indexed by numbers.\n",
    "Moreover, the elements of a set are never duplicated. For example, if you inspect the\n",
    "value of  t from the preceding code, you get the following:\n",
    "\n",
    "```\n",
    ">>> t\n",
    "set(['H', 'e', 'l', 'o'])\n",
    "```\n",
    "\n",
    "Notice that only one  'l' appears."
   ]
  },
  {
   "cell_type": "markdown",
   "metadata": {},
   "source": [
    "Unlike lists and tuples, sets are unordered and cannot be indexed by numbers.\n",
    "Moreover, the elements of a set are never duplicated. For example, if you inspect the\n",
    "value of  t from the preceding code, you get the following:\n",
    "\n",
    "```\n",
    ">>> t\n",
    "set(['H', 'e', 'l', 'o'])\n",
    "```\n",
    "\n",
    "Notice that only one  'l' appears.\n",
    "\n",
    "Sets support a standard collection of operations, including union, intersection, differ-\n",
    "ence, and symmetric difference. Here’s an example:"
   ]
  },
  {
   "cell_type": "code",
   "execution_count": 8,
   "metadata": {
    "collapsed": false
   },
   "outputs": [
    {
     "name": "stdout",
     "output_type": "stream",
     "text": [
      "set([3, 'e', 5, 'H', 10, 'l', 'o', 9])\n",
      "set([])\n",
      "set(['H', 'e', 'l', 'o'])\n",
      "set([3, 'e', 5, 9, 10, 'l', 'o', 'H'])\n"
     ]
    }
   ],
   "source": [
    "a = t | s # Union of t and s\n",
    "b = t & s # Intersection of t and s\n",
    "c = t - s # Set difference (items in t, but not in s)\n",
    "d = t ^ s # Symmetric difference (items in t or s, but not both)\n",
    "print a\n",
    "print b\n",
    "print c\n",
    "print d"
   ]
  },
  {
   "cell_type": "markdown",
   "metadata": {},
   "source": [
    "New items can be added to a set using  add() or update() :"
   ]
  },
  {
   "cell_type": "code",
   "execution_count": 9,
   "metadata": {
    "collapsed": false
   },
   "outputs": [
    {
     "name": "stdout",
     "output_type": "stream",
     "text": [
      "set(['H', 'e', 'l', 'o', 'x'])\n",
      "set([3, 5, 9, 42, 10, 37])\n"
     ]
    }
   ],
   "source": [
    "t.add('x') # Add a single item\n",
    "s.update([10,37,42]) # Adds multiple items to s\n",
    "print t\n",
    "print s"
   ]
  },
  {
   "cell_type": "markdown",
   "metadata": {},
   "source": [
    "An item can be removed using  remove() :"
   ]
  },
  {
   "cell_type": "code",
   "execution_count": 10,
   "metadata": {
    "collapsed": false
   },
   "outputs": [
    {
     "name": "stdout",
     "output_type": "stream",
     "text": [
      "set(['e', 'l', 'o', 'x'])\n"
     ]
    }
   ],
   "source": [
    "t.remove('H')\n",
    "print t"
   ]
  },
  {
   "cell_type": "markdown",
   "metadata": {},
   "source": [
    "__Dictionaries__\n",
    "p16"
   ]
  },
  {
   "cell_type": "code",
   "execution_count": null,
   "metadata": {
    "collapsed": true
   },
   "outputs": [],
   "source": []
  }
 ],
 "metadata": {
  "kernelspec": {
   "display_name": "Python 2",
   "language": "python",
   "name": "python2"
  },
  "language_info": {
   "codemirror_mode": {
    "name": "ipython",
    "version": 2
   },
   "file_extension": ".py",
   "mimetype": "text/x-python",
   "name": "python",
   "nbconvert_exporter": "python",
   "pygments_lexer": "ipython2",
   "version": "2.7.11"
  }
 },
 "nbformat": 4,
 "nbformat_minor": 0
}
