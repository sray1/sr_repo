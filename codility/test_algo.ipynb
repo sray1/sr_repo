{
 "cells": [
  {
   "cell_type": "markdown",
   "metadata": {},
   "source": [
    "# Chapter 4: Counting Elements\n",
    "\n",
    "Store the data in a slightly different way, by making an array of counters. Each number may be counted in the array by using an index that corresponds to the value of the given number. Notice that we do not place elements directly into a cell; rather, we simply count their occurrences. It is important that the array in which we count elements is sufficiently large. If we know that all the elements are in the set {0,1,...,m}, then the array used for counting should be of size m + 1."
   ]
  },
  {
   "cell_type": "code",
   "execution_count": 6,
   "metadata": {
    "collapsed": true
   },
   "outputs": [],
   "source": [
    "import time"
   ]
  },
  {
   "cell_type": "code",
   "execution_count": 1,
   "metadata": {
    "collapsed": true
   },
   "outputs": [],
   "source": [
    "# Counting elements — O(n + m).\n",
    "def counting(A,m):\n",
    "    n = len(A)\n",
    "    count = [0]*(m+1)\n",
    "    for k in xrange(n):\n",
    "        print 'count',count\n",
    "        count[A[k]] += 1\n",
    "    return count"
   ]
  },
  {
   "cell_type": "code",
   "execution_count": 2,
   "metadata": {
    "collapsed": false
   },
   "outputs": [
    {
     "name": "stdout",
     "output_type": "stream",
     "text": [
      "count [0, 0, 0, 0, 0, 0]\n",
      "count [1, 0, 0, 0, 0, 0]\n",
      "count [2, 0, 0, 0, 0, 0]\n",
      "count [2, 0, 0, 0, 1, 0]\n",
      "count [2, 0, 1, 0, 1, 0]\n",
      "count [2, 0, 1, 0, 2, 0]\n"
     ]
    },
    {
     "data": {
      "text/plain": [
       "[2, 0, 1, 0, 2, 1]"
      ]
     },
     "execution_count": 2,
     "metadata": {},
     "output_type": "execute_result"
    }
   ],
   "source": [
    "counting([0,0,4,2,4,5],5)"
   ]
  },
  {
   "cell_type": "markdown",
   "metadata": {},
   "source": [
    "The limitation here may be available memory. Usually, we are not able to create arrays of 10^9 integers, because this would require more than 1GB of available memory."
   ]
  },
  {
   "cell_type": "markdown",
   "metadata": {},
   "source": [
    "__Problem__ \n",
    "You are given an integer m (1 <= m <= 1000000) and two non-empty, zero-indexed arrays A and B of n integers, a[0] ,a[1] ,...,a[n−1] and b[0] ,b[1] ,...,b[n−1] respectively (0 <= a[i] ,b[i] <= m). The goal is to check whether there is a swap operation which can be performed on these arrays in such a way that the sum of elements in array A equals the sum of elements in array B after the swap. By swap operation we mean picking one element from array A and one element from array B and exchanging them.\n",
    "\n",
    "__Solution__ \n",
    "O(n^2): The simplest method is to swap every pair of elements and calculate the totals. Using that approach gives us O(n^2) time complexity. A better approach is to calculate the sums of elements at the beginning, and check only how the totals change during the swap operation."
   ]
  },
  {
   "cell_type": "code",
   "execution_count": 40,
   "metadata": {
    "collapsed": true
   },
   "outputs": [],
   "source": [
    "# Swap the elements — O(n^2)\n",
    "def slow_solution(A, B, m):\n",
    "    n = len(A)\n",
    "    sum_a = sum(A)\n",
    "    sum_b = sum(B)\n",
    "    for i in xrange(n):\n",
    "        for j in xrange(n):\n",
    "            change = B[j] - A[i]\n",
    "            sum_a += change\n",
    "            sum_b -= change\n",
    "            if sum_a == sum_b:\n",
    "                return True\n",
    "            sum_a -= change\n",
    "            sum_b += change\n",
    "    return False"
   ]
  },
  {
   "cell_type": "code",
   "execution_count": 41,
   "metadata": {
    "collapsed": false
   },
   "outputs": [
    {
     "name": "stdout",
     "output_type": "stream",
     "text": [
      "True\n",
      "Elapsed time was 0.000999928 seconds\n"
     ]
    }
   ],
   "source": [
    "start_time = time.time()\n",
    "\n",
    "print slow_solution([3,5,7,4,7,6,4,4],[4,6,1,8,5,4,9,3],7)\n",
    "\n",
    "end_time = time.time()\n",
    "print(\"Elapsed time was %g seconds\" % (end_time - start_time))"
   ]
  },
  {
   "cell_type": "markdown",
   "metadata": {},
   "source": [
    "__Better Solution__ O(n + m): Best approach is to count the elements of array A and calculate the difference d between the sums of the elements of array A and B. For every element of array B, we assume that we will swap it with some element from array A. The difference d tells us the value from array A that we are interested in swapping, because only one value will cause the two totals to be equal. The occurrence of this value can be found in constant time from the array used for counting."
   ]
  },
  {
   "cell_type": "code",
   "execution_count": 13,
   "metadata": {
    "collapsed": true
   },
   "outputs": [],
   "source": [
    "# Swap the elements — O(n + m)\n",
    "def fast_solution(A, B, m):\n",
    "    n = len(A)\n",
    "    sum_a = sum(A)\n",
    "    sum_b = sum(B)\n",
    "    d = sum_b - sum_a\n",
    "    print 'sum_a',sum_a,'sum_b',sum_b, 'd',d\n",
    "    if d % 2 == 1:\n",
    "        return False\n",
    "    d //= 2\n",
    "    print 'd',d   \n",
    "    count = counting(A, m) # count elements of A\n",
    "    for i in xrange(n):\n",
    "        print 'i',i\n",
    "        print 'B[i]',B[i],'count[B[i]-d]',count[B[i] - d]\n",
    "        if 0 <= B[i] - d and B[i] - d <= m and count[B[i] - d] > 0:\n",
    "            return True\n",
    "    return False"
   ]
  },
  {
   "cell_type": "code",
   "execution_count": 18,
   "metadata": {
    "collapsed": false
   },
   "outputs": [
    {
     "name": "stdout",
     "output_type": "stream",
     "text": [
      "sum_a 9 sum_b 27 d 18\n",
      "d 9\n",
      "count [0, 0, 0, 0, 0, 0, 0, 0, 0]\n",
      "count [0, 1, 0, 0, 0, 0, 0, 0, 0]\n",
      "count [0, 1, 1, 0, 0, 0, 0, 0, 0]\n",
      "count [0, 1, 2, 0, 0, 0, 0, 0, 0]\n",
      "count [0, 2, 2, 0, 0, 0, 0, 0, 0]\n",
      "i 0\n",
      "B[i] 2 count[B[i]-d] 2\n",
      "i 1\n",
      "B[i] 6 count[B[i]-d] 0\n",
      "i 2\n",
      "B[i] 5 count[B[i]-d] 0\n",
      "i 3\n",
      "B[i] 8 count[B[i]-d] 0\n",
      "i 4\n",
      "B[i] 6 count[B[i]-d] 0\n",
      "False\n"
     ]
    }
   ],
   "source": [
    "print fast_solution([1,2,2,1,3],[2,6,5,8,6],8)"
   ]
  },
  {
   "cell_type": "code",
   "execution_count": 19,
   "metadata": {
    "collapsed": false
   },
   "outputs": [
    {
     "name": "stdout",
     "output_type": "stream",
     "text": [
      "sum_a 40 sum_b 40 d 0\n",
      "d 0\n",
      "count [0, 0, 0, 0, 0, 0, 0, 0]\n",
      "count [0, 0, 0, 1, 0, 0, 0, 0]\n",
      "count [0, 0, 0, 1, 0, 1, 0, 0]\n",
      "count [0, 0, 0, 1, 0, 1, 0, 1]\n",
      "count [0, 0, 0, 1, 1, 1, 0, 1]\n",
      "count [0, 0, 0, 1, 1, 1, 0, 2]\n",
      "count [0, 0, 0, 1, 1, 1, 1, 2]\n",
      "count [0, 0, 0, 1, 2, 1, 1, 2]\n",
      "i 0\n",
      "B[i] 4 count[B[i]-d] 3\n",
      "True\n",
      "Elapsed time was 0.00200009 seconds\n"
     ]
    }
   ],
   "source": [
    "start_time = time.time()\n",
    "\n",
    "print fast_solution([3,5,7,4,7,6,4,4],[4,6,1,8,5,4,9,3],7)\n",
    "\n",
    "end_time = time.time()\n",
    "print(\"Elapsed time was %g seconds\" % (end_time - start_time))"
   ]
  },
  {
   "cell_type": "markdown",
   "metadata": {},
   "source": [
    "# Chapter 5: prefix sums\n",
    "\n",
    "There is a simple yet powerful technique that allows for the fast calculation of sums of elements in given slice (contiguous segments of array). Its main idea uses prefix sums which are defined as the consecutive totals of the first 0,1,2,...,n elements of an array. We can easily calculate the prefix sums in O(n) time complexity. Notice that the total p[k] equals p[k−1] + a[k−1],  so each consecutive value can be calculated in a constant time.\n",
    "\n",
    "Similarly, we can calculate suffix sums, which are the totals of the k last values. Using prefix (or suffix) sums allows us to calculate the total of any slice of the array very quickly. For example, assume that you are asked about the totals of m slices [x..y] such that 0 ‹ x ‹ y < n, where the total is the sum a[x] + a[x+1] + ... + a[y−1] + a[y]. The simplest approach is to iterate through the whole array for each result separately; however, that requires O(n·m) time. The better approach is to use prefix sums. If we calculate the prefix sums then we can answer each question directly in constant time."
   ]
  },
  {
   "cell_type": "code",
   "execution_count": 47,
   "metadata": {
    "collapsed": false
   },
   "outputs": [],
   "source": [
    "# Counting prefix sums — O(n).prefix_sums\n",
    "def prefix_sums(A):\n",
    "    n = len(A)\n",
    "    P = [0]*(n + 1)\n",
    "    for k in xrange(1, n + 1):\n",
    "        P[k] = P[k - 1] + A[k - 1]\n",
    "        print 'P[k]',P[k],'P[k - 1]',P[k - 1],'A[k - 1]',A[k - 1]\n",
    "    return P\n",
    "\n",
    "# Total of one slice — O(1).\n",
    "def count_total(P, x, y):\n",
    "    return P[y + 1] - P[x]"
   ]
  },
  {
   "cell_type": "code",
   "execution_count": 48,
   "metadata": {
    "collapsed": false
   },
   "outputs": [
    {
     "name": "stdout",
     "output_type": "stream",
     "text": [
      "P[k] 2 P[k - 1] 0 A[k - 1] 2\n",
      "P[k] 5 P[k - 1] 2 A[k - 1] 3\n",
      "P[k] 12 P[k - 1] 5 A[k - 1] 7\n",
      "P[k] 17 P[k - 1] 12 A[k - 1] 5\n",
      "P[k] 18 P[k - 1] 17 A[k - 1] 1\n",
      "P[k] 21 P[k - 1] 18 A[k - 1] 3\n",
      "P[k] 30 P[k - 1] 21 A[k - 1] 9\n"
     ]
    },
    {
     "data": {
      "text/plain": [
       "[0, 2, 5, 12, 17, 18, 21, 30]"
      ]
     },
     "execution_count": 48,
     "metadata": {},
     "output_type": "execute_result"
    }
   ],
   "source": [
    "prefix_sums([2,3,7,5,1,3,9])"
   ]
  },
  {
   "cell_type": "markdown",
   "metadata": {},
   "source": [
    "A mushroom picker is at spot number k on the road and should perform m moves. In one move she moves to an adjacent spot. She collects all the mushrooms growing on spots she visits. The goal is to calculate the maximum number of mushrooms that the mushroom picker can collect in m moves.\n",
    "\n",
    "The mushroom picker starts at spot k = 4 and should perform m = 6 moves. She might move to spots 3,2,3,4,5,6 and thereby collect 1+5+7+3+9 = 25 mushrooms. This is the maximal number of mushrooms she can collect.\n",
    "\n",
    "Solution O(m^2): Note that the best strategy is to move in one direction optionally followed by some moves in the opposite direction. In other words, the mushroom picker should not change direction more than once. With this observation we can find the simplest solution. Make the first p = 0,1,2,...,m moves in one direction, then the next m − p moves in the opposite direction. This is just a simple simulation of the moves of the mushroom picker which requires O(m^2) time.\n",
    "\n",
    "Solution O(n+m): A better approach is to use prefix sums. If we make p moves in one direction, we can calculate the maximal opposite location of the mushroom picker. The mushroom picker collects all mushrooms between these extremes. We can calculate the total number of collected mushrooms in constant time by using prefix sums."
   ]
  },
  {
   "cell_type": "code",
   "execution_count": 45,
   "metadata": {
    "collapsed": true
   },
   "outputs": [],
   "source": [
    "# 5.3: Mushroom picker — O(n + m)\n",
    "def mushrooms(A, k, m):\n",
    "    n = len(A)\n",
    "    result = 0\n",
    "    pref = prefix_sums(A)\n",
    "    for p in xrange(min(m, k) + 1):\n",
    "        left_pos = k - p\n",
    "        right_pos = min(n - 1, max(k, k + m - 2 * p))\n",
    "        result = max(result, count_total(pref, left_pos, right_pos))\n",
    "    for p in xrange(min(m + 1, n - k)):\n",
    "        right_pos = k + p\n",
    "        left_pos = max(0, min(k, k - (m - 2 * p)))\n",
    "        result = max(result, count_total(pref, left_pos, right_pos))\n",
    "    return result"
   ]
  },
  {
   "cell_type": "code",
   "execution_count": 35,
   "metadata": {
    "collapsed": false
   },
   "outputs": [
    {
     "data": {
      "text/plain": [
       "25"
      ]
     },
     "execution_count": 35,
     "metadata": {},
     "output_type": "execute_result"
    }
   ],
   "source": [
    "mushrooms([2,3,7,5,1,3,9],4,6)"
   ]
  },
  {
   "cell_type": "markdown",
   "metadata": {},
   "source": [
    "# Chapter 6: sorting"
   ]
  },
  {
   "cell_type": "markdown",
   "metadata": {},
   "source": [
    "__Selection sort__\n",
    "\n",
    "The idea: Find the minimal element and swap it with the first element of an array. Next, just sort the rest of the array, without the first element, in the same way. Notice that after k iterations the first k elements will be sorted in the right order (this property is called the invariant)."
   ]
  },
  {
   "cell_type": "code",
   "execution_count": 49,
   "metadata": {
    "collapsed": true
   },
   "outputs": [],
   "source": [
    "# Selection sort — O(n^2).\n",
    "def selectionSort(A):\n",
    "    n = len(A)\n",
    "    for k in xrange(n):\n",
    "        minimal = k\n",
    "        for j in xrange(k + 1, n):\n",
    "            if (A[minimal] > A[j]):\n",
    "                minimal = j\n",
    "        A[k], A[minimal] = A[minimal], A[k]\n",
    "    return A"
   ]
  },
  {
   "cell_type": "code",
   "execution_count": 53,
   "metadata": {
    "collapsed": false
   },
   "outputs": [
    {
     "name": "stdout",
     "output_type": "stream",
     "text": [
      "[17, 20, 26, 31, 44, 54, 55, 77, 93]\n"
     ]
    }
   ],
   "source": [
    "alist = [54,26,93,17,77,31,44,55,20]\n",
    "selectionSort(alist)\n",
    "print(alist)"
   ]
  },
  {
   "cell_type": "markdown",
   "metadata": {},
   "source": [
    "__Counting sort__\n",
    "\n",
    "The idea: First, count the elements in the array of counters (see chapter 2). Next, just iterate through the array of counters in increasing order. Notice that we have to know the range of the sorted values. If all the elements are in the set {0,1,...,k}, then the array used for counting should be of size k+1. The limitation here may be available memory."
   ]
  },
  {
   "cell_type": "code",
   "execution_count": 50,
   "metadata": {
    "collapsed": true
   },
   "outputs": [],
   "source": [
    "#  Counting sort — O(n + k)\n",
    "def countingSort(A, k):\n",
    "    n = len(A)\n",
    "    count = [0] * (k + 1)\n",
    "    for i in xrange(n):\n",
    "        count[A[i]] += 1\n",
    "    p = 0\n",
    "    for i in xrange(k + 1):\n",
    "        for j in xrange(count[i]):\n",
    "            A[p] = i;\n",
    "            p += 1;\n",
    "    return A"
   ]
  },
  {
   "cell_type": "code",
   "execution_count": 57,
   "metadata": {
    "collapsed": false
   },
   "outputs": [
    {
     "ename": "IndexError",
     "evalue": "list index out of range",
     "output_type": "error",
     "traceback": [
      "\u001b[1;31m---------------------------------------------------------------------------\u001b[0m",
      "\u001b[1;31mIndexError\u001b[0m                                Traceback (most recent call last)",
      "\u001b[1;32m<ipython-input-57-5375c28cfa11>\u001b[0m in \u001b[0;36m<module>\u001b[1;34m()\u001b[0m\n\u001b[0;32m      1\u001b[0m \u001b[0malist\u001b[0m \u001b[1;33m=\u001b[0m \u001b[1;33m[\u001b[0m\u001b[1;36m54\u001b[0m\u001b[1;33m,\u001b[0m\u001b[1;36m26\u001b[0m\u001b[1;33m,\u001b[0m\u001b[1;36m93\u001b[0m\u001b[1;33m,\u001b[0m\u001b[1;36m17\u001b[0m\u001b[1;33m,\u001b[0m\u001b[1;36m77\u001b[0m\u001b[1;33m,\u001b[0m\u001b[1;36m31\u001b[0m\u001b[1;33m,\u001b[0m\u001b[1;36m44\u001b[0m\u001b[1;33m,\u001b[0m\u001b[1;36m55\u001b[0m\u001b[1;33m,\u001b[0m\u001b[1;36m20\u001b[0m\u001b[1;33m]\u001b[0m\u001b[1;33m\u001b[0m\u001b[0m\n\u001b[1;32m----> 2\u001b[1;33m \u001b[0mcountingSort\u001b[0m\u001b[1;33m(\u001b[0m\u001b[0malist\u001b[0m\u001b[1;33m,\u001b[0m\u001b[1;36m9\u001b[0m\u001b[1;33m)\u001b[0m\u001b[1;33m\u001b[0m\u001b[0m\n\u001b[0m\u001b[0;32m      3\u001b[0m \u001b[1;32mprint\u001b[0m\u001b[1;33m(\u001b[0m\u001b[0malist\u001b[0m\u001b[1;33m)\u001b[0m\u001b[1;33m\u001b[0m\u001b[0m\n",
      "\u001b[1;32m<ipython-input-50-d4d7905fe8ee>\u001b[0m in \u001b[0;36mcountingSort\u001b[1;34m(A, k)\u001b[0m\n\u001b[0;32m      3\u001b[0m     \u001b[0mcount\u001b[0m \u001b[1;33m=\u001b[0m \u001b[1;33m[\u001b[0m\u001b[1;36m0\u001b[0m\u001b[1;33m]\u001b[0m \u001b[1;33m*\u001b[0m \u001b[1;33m(\u001b[0m\u001b[0mk\u001b[0m \u001b[1;33m+\u001b[0m \u001b[1;36m1\u001b[0m\u001b[1;33m)\u001b[0m\u001b[1;33m\u001b[0m\u001b[0m\n\u001b[0;32m      4\u001b[0m     \u001b[1;32mfor\u001b[0m \u001b[0mi\u001b[0m \u001b[1;32min\u001b[0m \u001b[0mxrange\u001b[0m\u001b[1;33m(\u001b[0m\u001b[0mn\u001b[0m\u001b[1;33m)\u001b[0m\u001b[1;33m:\u001b[0m\u001b[1;33m\u001b[0m\u001b[0m\n\u001b[1;32m----> 5\u001b[1;33m         \u001b[0mcount\u001b[0m\u001b[1;33m[\u001b[0m\u001b[0mA\u001b[0m\u001b[1;33m[\u001b[0m\u001b[0mi\u001b[0m\u001b[1;33m]\u001b[0m\u001b[1;33m]\u001b[0m \u001b[1;33m+=\u001b[0m \u001b[1;36m1\u001b[0m\u001b[1;33m\u001b[0m\u001b[0m\n\u001b[0m\u001b[0;32m      6\u001b[0m     \u001b[0mp\u001b[0m \u001b[1;33m=\u001b[0m \u001b[1;36m0\u001b[0m\u001b[1;33m\u001b[0m\u001b[0m\n\u001b[0;32m      7\u001b[0m     \u001b[1;32mfor\u001b[0m \u001b[0mi\u001b[0m \u001b[1;32min\u001b[0m \u001b[0mxrange\u001b[0m\u001b[1;33m(\u001b[0m\u001b[0mk\u001b[0m \u001b[1;33m+\u001b[0m \u001b[1;36m1\u001b[0m\u001b[1;33m)\u001b[0m\u001b[1;33m:\u001b[0m\u001b[1;33m\u001b[0m\u001b[0m\n",
      "\u001b[1;31mIndexError\u001b[0m: list index out of range"
     ]
    }
   ],
   "source": [
    "alist = [54,26,93,17,77,31,44,55,20]\n",
    "countingSort(alist,9)\n",
    "print(alist)"
   ]
  },
  {
   "cell_type": "markdown",
   "metadata": {},
   "source": [
    "__Merge sort__\n",
    "\n",
    "The idea: Divide the unsorted array into two halves, sort each half separately and then just merge them.\n",
    "\n",
    "After the split, each part is halved again. We repeat this algorithm until we end up with individual elements, which are sorted by definition. The merging of two sorted arrays consisting of n elements takes O(n) time; just repeatedly choose the lower of the first elements of the two merged parts.\n",
    "\n",
    "The number of divisions will be O(n), because the length of the array is halved on each iteration. In this way, we get consecutive levels with 1,2,4,8,... slices. For each level, the merging of the all consecutive pairs of slices requires O(n) time. The number of levels is O(logn), so the total time complexity is O(nlogn)"
   ]
  },
  {
   "cell_type": "code",
   "execution_count": 51,
   "metadata": {
    "collapsed": true
   },
   "outputs": [],
   "source": [
    "def mergeSort(alist):\n",
    "    print(\"Splitting \",alist)\n",
    "    if len(alist)>1:\n",
    "        mid = len(alist)//2\n",
    "        lefthalf = alist[:mid]\n",
    "        righthalf = alist[mid:]\n",
    "\n",
    "        mergeSort(lefthalf)\n",
    "        mergeSort(righthalf)\n",
    "\n",
    "        i=0\n",
    "        j=0\n",
    "        k=0\n",
    "        while i < len(lefthalf) and j < len(righthalf):\n",
    "            if lefthalf[i] < righthalf[j]:\n",
    "                alist[k]=lefthalf[i]\n",
    "                i=i+1\n",
    "            else:\n",
    "                alist[k]=righthalf[j]\n",
    "                j=j+1\n",
    "            k=k+1\n",
    "\n",
    "        while i < len(lefthalf):\n",
    "            alist[k]=lefthalf[i]\n",
    "            i=i+1\n",
    "            k=k+1\n",
    "\n",
    "        while j < len(righthalf):\n",
    "            alist[k]=righthalf[j]\n",
    "            j=j+1\n",
    "            k=k+1\n",
    "    print(\"Merging \",alist)"
   ]
  },
  {
   "cell_type": "code",
   "execution_count": 52,
   "metadata": {
    "collapsed": false
   },
   "outputs": [
    {
     "name": "stdout",
     "output_type": "stream",
     "text": [
      "('Splitting ', [54, 26, 93, 17, 77, 31, 44, 55, 20])\n",
      "('Splitting ', [54, 26, 93, 17])\n",
      "('Splitting ', [54, 26])\n",
      "('Splitting ', [54])\n",
      "('Merging ', [54])\n",
      "('Splitting ', [26])\n",
      "('Merging ', [26])\n",
      "('Merging ', [26, 54])\n",
      "('Splitting ', [93, 17])\n",
      "('Splitting ', [93])\n",
      "('Merging ', [93])\n",
      "('Splitting ', [17])\n",
      "('Merging ', [17])\n",
      "('Merging ', [17, 93])\n",
      "('Merging ', [17, 26, 54, 93])\n",
      "('Splitting ', [77, 31, 44, 55, 20])\n",
      "('Splitting ', [77, 31])\n",
      "('Splitting ', [77])\n",
      "('Merging ', [77])\n",
      "('Splitting ', [31])\n",
      "('Merging ', [31])\n",
      "('Merging ', [31, 77])\n",
      "('Splitting ', [44, 55, 20])\n",
      "('Splitting ', [44])\n",
      "('Merging ', [44])\n",
      "('Splitting ', [55, 20])\n",
      "('Splitting ', [55])\n",
      "('Merging ', [55])\n",
      "('Splitting ', [20])\n",
      "('Merging ', [20])\n",
      "('Merging ', [20, 55])\n",
      "('Merging ', [20, 44, 55])\n",
      "('Merging ', [20, 31, 44, 55, 77])\n",
      "('Merging ', [17, 20, 26, 31, 44, 54, 55, 77, 93])\n",
      "[17, 20, 26, 31, 44, 54, 55, 77, 93]\n"
     ]
    }
   ],
   "source": [
    "alist = [54,26,93,17,77,31,44,55,20]\n",
    "mergeSort(alist)\n",
    "print(alist)"
   ]
  },
  {
   "cell_type": "markdown",
   "metadata": {},
   "source": [
    "# Chapter 7: stacks"
   ]
  },
  {
   "cell_type": "markdown",
   "metadata": {},
   "source": [
    "__Stack__\n",
    "\n",
    "The stack is a basic data structure in which the insertion of new elements takes place at the top and deletion of elements also takes place from the top. The idea of the stack can be illustrated by plates stacked on top of one another. Each new plate is placed on top of the stack of plates, and plates can only be taken off the top of the stack.\n",
    "\n",
    "The stack can be represented by an array in which we should also remember the size of the stack and we must be sure to declare sufficient space for the array (in the following implementation we can store N elements)."
   ]
  },
  {
   "cell_type": "code",
   "execution_count": 59,
   "metadata": {
    "collapsed": false
   },
   "outputs": [],
   "source": [
    "# push / pop operations — O(1).\n",
    "N = 100\n",
    "stack = [0]*N\n",
    "size = 0\n",
    "def push(x):\n",
    "    global size\n",
    "    stack[size] = x\n",
    "    size += 1\n",
    "def pop():\n",
    "    global size\n",
    "    size -= 1\n",
    "    return stack[size]"
   ]
  },
  {
   "cell_type": "markdown",
   "metadata": {},
   "source": [
    "__Queue__\n",
    "\n",
    "The queue is a basic data structure in which new elements are inserted at the back but old elements are removed from the front. The idea of the queue can be illustrated by a line of customers in a grocery store. New people join the back of the queue and the next person to be served is the first one in the line."
   ]
  },
  {
   "cell_type": "code",
   "execution_count": 60,
   "metadata": {
    "collapsed": true
   },
   "outputs": [],
   "source": [
    "#  Push / pop / size / empty operations — O(1).\n",
    "N = 100\n",
    "queue = [0] * N\n",
    "head, tail = 0, 0\n",
    "def push(x):\n",
    "    global tail\n",
    "    tail = (tail + 1) % N\n",
    "    queue[tail] = x\n",
    "def pop():\n",
    "    global head\n",
    "    head = (head + 1) % N\n",
    "    return queue[head]\n",
    "def size():\n",
    "    return (tail - head + N) % N\n",
    "def empty():\n",
    "    return head == tail"
   ]
  },
  {
   "cell_type": "markdown",
   "metadata": {},
   "source": [
    "Problem: You are given a zero-indexed array A consisting of n integers: a[0] ,a[1] ,...,a[n−1].\n",
    "Array A represents a scenario in a grocery store, and contains only 0s and/or 1s:\n",
    "\n",
    "* 0 represents the action of a new person joining the line in the grocery store,\n",
    "* 1 represents the action of the person at the front of the queue being served and leaving the line.\n",
    "\n",
    "The goal is to count the minimum number of people who should have been in the line before the above scenario, so that the scenario is possible (it is not possible to serve a person if the line is empty).\n",
    "\n",
    "Solution: We should remember the size of the queue and carry out a simulation of people arriving at and leaving the grocery store. If the size of the queue becomes a negative number then that sets the lower limit for the number of people who had to stand in the line previously. We should find the smallest negative number to determine the size of the queue during the whole simulation."
   ]
  },
  {
   "cell_type": "code",
   "execution_count": 62,
   "metadata": {
    "collapsed": true
   },
   "outputs": [],
   "source": [
    "# Golden solution — O(n)\n",
    "def groceryStore(A):\n",
    "    n = len(A)\n",
    "    size, result = 0, 0\n",
    "    for i in xrange(n):\n",
    "        if (A[i] == 0):\n",
    "            size += 1\n",
    "        else:\n",
    "            size -= 1\n",
    "            result = max(result, -size);\n",
    "    return result"
   ]
  },
  {
   "cell_type": "code",
   "execution_count": 63,
   "metadata": {
    "collapsed": false
   },
   "outputs": [
    {
     "data": {
      "text/plain": [
       "4"
      ]
     },
     "execution_count": 63,
     "metadata": {},
     "output_type": "execute_result"
    }
   ],
   "source": [
    "groceryStore([1,0,1,0,1,1,0,0,1,1,1,1])"
   ]
  },
  {
   "cell_type": "markdown",
   "metadata": {},
   "source": [
    "# Chapter 8: leader"
   ]
  },
  {
   "cell_type": "markdown",
   "metadata": {},
   "source": [
    "Let us consider a sequence a[0] ,a[1] ,...,a[n-1]. The leader of this sequence is the element whose value occurs more than\n",
    "n/2 times.\n",
    "\n",
    "|a[0]| a[1]| a[2]| a[3]| a[4]| a[5]| a[6]|\n",
    "|---|---|---|---|---|\n",
    "|**6**   | 8   | 4    |**6**    |8   | **6** | **6**|\n",
    "|0   | 1   | 2    |3   | 4   | 5 |   6|\n",
    "\n",
    "In the picture the leader is highlighted in gray. Notice that the sequence can have at most one leader. If there were two leaders then their total occurrences would be more than 2 · n/2 = n, but we only have n elements.\n",
    "The leader may be found in many ways. We describe some methods here, starting with trivial, slow ideas and ending with very creative, fast algorithms. The task is to find the value of the leader of the sequence a[0] ,a[1] ,...,a[n-1] , such that 0 <= a <= 10^9. If there is no leader, the result should be -1"
   ]
  },
  {
   "cell_type": "code",
   "execution_count": 66,
   "metadata": {
    "collapsed": false
   },
   "outputs": [],
   "source": [
    "# Leader — O(n^2).\n",
    "def slowLeader(A):\n",
    "    n = len(A)\n",
    "    leader = -1\n",
    "    for k in xrange(n):\n",
    "        candidate = A[k]\n",
    "        count = 0\n",
    "        for i in xrange(n):\n",
    "            if (A[i] == candidate):\n",
    "                count += 1\n",
    "        if (count > n // 2):\n",
    "            leader = candidate\n",
    "    return leader"
   ]
  },
  {
   "cell_type": "markdown",
   "metadata": {},
   "source": [
    "If the sequence is presented in non-decreasing order, then identical values are adjacent to each other.\n",
    "\n",
    "|a[0]| a[1]| a[2]| a[3]| a[4]| a[5]| a[6]|\n",
    "|---|---|---|---|---|\n",
    "|4   | **6**   | **6**    |**6**    |**6**   | 8 | 8|\n",
    "|0   | 1   | 2    |*3*   | 4   | 5 |   6|\n",
    "\n",
    "Having sorted the sequence, we can easily count slices of the same values and find the leader in a smarter way. Notice that if the leader occurs somewhere in our sequence, then it must occur at index n/2 (the central element). This is because, given that the leader occurs in more than half the total values in the sequence, there are more leader values than will fit on either side of the central element in the sequence."
   ]
  },
  {
   "cell_type": "code",
   "execution_count": 68,
   "metadata": {
    "collapsed": false
   },
   "outputs": [],
   "source": [
    "# Leader — O(nlogn).\n",
    "def fastLeader(A):\n",
    "    n = len(A)\n",
    "    leader = -1\n",
    "    A.sort()\n",
    "    candidate = A[n // 2]\n",
    "    count = 0\n",
    "    for i in xrange(n):\n",
    "        if (A[i] == candidate):\n",
    "            count += 1\n",
    "    if (count > n // 2):\n",
    "        leader = candidate\n",
    "    return leader"
   ]
  },
  {
   "cell_type": "markdown",
   "metadata": {},
   "source": [
    "At the beginning we notice that if the sequence contains a leader, then after the removal of different elements the leader will not have changed. After removing all pairs of different elements, we end up with a sequence containing all the same values. This value is not necessarily the leader; it is only a candidate for the leader. Finally, we should iterate through all the elements and count the occurrences of the candidate; if it is greater than n/2 then we have found the leader; otherwise the sequence does not contain a leader. The time complexity of this algorithm is O(n) because every element is considered only once. The final counting of occurrences of the candidate value also works in O(n) time"
   ]
  },
  {
   "cell_type": "code",
   "execution_count": 69,
   "metadata": {
    "collapsed": true
   },
   "outputs": [],
   "source": [
    "# Leader — O(n).\n",
    "def goldenLeader(A):\n",
    "    n = len(A)\n",
    "    size = 0\n",
    "    for k in xrange(n):\n",
    "        if (size == 0):\n",
    "            size += 1\n",
    "            value = A[k]\n",
    "        else:\n",
    "            if (value != A[k]):\n",
    "                size -= 1\n",
    "            else:\n",
    "                size += 1\n",
    "    candidate = -1\n",
    "    if (size > 0):\n",
    "        candidate = value\n",
    "    leader = -1\n",
    "    count = 0\n",
    "    for k in xrange(n):\n",
    "        if (A[k] == candidate):\n",
    "            count += 1\n",
    "    if (count > n // 2):\n",
    "        leader = candidate\n",
    "    return leader"
   ]
  },
  {
   "cell_type": "markdown",
   "metadata": {},
   "source": [
    "# Chapter 9: Maximum slice problem"
   ]
  },
  {
   "cell_type": "markdown",
   "metadata": {},
   "source": [
    "Let’s define a problem relating to maximum slices. You are given a sequence of n integers a[0] ,a[1] ,...,a[n-1] and the task is to find the slice with the largest sum. More precisely, we are looking for two indices p,q such that the total a[p] + a[p+1] + ... + a[q] is maximal. We assume that the slice can be empty and its sum equals 0.\n",
    "\n",
    "|a[0]| a[1]| a[2]| a[3]| a[4]| a[5]| a[6]|\n",
    "|---|---|---|---|---|---|---|\n",
    "|5 |-7 |**3**| **5** |**-2** |**4** |-1 |\n",
    "\n",
    "In the picture, the slice with the largest sum is highlighted in gray. The sum of this slice equals 10 and there is no slice with a larger sum. Notice that the slice we are looking for may contain negative integers, as shown above"
   ]
  },
  {
   "cell_type": "code",
   "execution_count": 71,
   "metadata": {
    "collapsed": false
   },
   "outputs": [],
   "source": [
    "# Maximal slice — O(n^3).\n",
    "def slow_max_slice(A):\n",
    "    n = len(A)\n",
    "    result = 0\n",
    "    for p in xrange(n):\n",
    "        for q in xrange(p, n):\n",
    "            sum = 0\n",
    "            for i in xrange(p, q + 1):\n",
    "                sum += A[i]\n",
    "            result = max(result, sum)\n",
    "    return result"
   ]
  },
  {
   "cell_type": "markdown",
   "metadata": {},
   "source": [
    "Analyzing all possible slices requires O(n^2) time complexity, and for each of them we compute the total in O(n) time complexity. It is the most straightforward solution, however it is far from optimal"
   ]
  },
  {
   "cell_type": "markdown",
   "metadata": {},
   "source": [
    "We can easily improve our last solution. Notice that the prefix sum allows the sum of any slice to be computed in a constant time. With this approach, the time complexity of the whole algorithm reduces to O(n^2). We assume that pref is an array of prefix sums (pref_i = a[0] + a[1] + ... + a[i-1])."
   ]
  },
  {
   "cell_type": "code",
   "execution_count": 73,
   "metadata": {
    "collapsed": false
   },
   "outputs": [],
   "source": [
    "# Maximal slice — O(n^2).\n",
    "def quadratic_max_slice(A, pref):\n",
    "    n = len(A) \n",
    "    result = 0\n",
    "    for p in xrange(n):\n",
    "        for q in xrange(p, n):\n",
    "            sum = pref[q + 1] - pref[p]\n",
    "            result = max(result, sum)\n",
    "    return result"
   ]
  },
  {
   "cell_type": "markdown",
   "metadata": {},
   "source": [
    "We can also solve this problem without using prefix sums, within the same time complexity. Assume that we know the sum of slice (p,q), so s = a[p] + a[p+1] +...+ a[q]. The sum of the slice with one more element (p,q+1) equals s + a[q+1]. Following this observation, there is no need to compute the sum each time from the beginning; we can use the previously calculated sum."
   ]
  },
  {
   "cell_type": "code",
   "execution_count": 75,
   "metadata": {
    "collapsed": false
   },
   "outputs": [],
   "source": [
    "# Maximal slice — O(n^2).\n",
    "def quadratic_max_slice(A):\n",
    "    n = len(A)\n",
    "    result = 0\n",
    "    for p in xrange(n):\n",
    "        sum = 0\n",
    "        for q in xrange(p, n):\n",
    "            sum += A[q]\n",
    "            result = max(result, sum)\n",
    "    return result"
   ]
  },
  {
   "cell_type": "markdown",
   "metadata": {},
   "source": [
    "This problem can be solved even faster. For each position, we compute the largest sum that ends in that position. If we assume that the maximum sum of a slice ending in position i equals max_ending, then the maximum slice ending in position i+1 equals max(0,max_ending + a[i+1]).\n",
    "\n",
    "This time, the fastest algorithm is the one with the simplest implementation, however it is conceptually more difficult. We have used here a very popular and important technique. Based on the solution for shorter sequences we can find the solution for longer sequences."
   ]
  },
  {
   "cell_type": "code",
   "execution_count": 76,
   "metadata": {
    "collapsed": true
   },
   "outputs": [],
   "source": [
    "# Maximal slice — O(n).\n",
    "def golden_max_slice(A):\n",
    "    max_ending = max_slice = 0\n",
    "    for a in A:\n",
    "        max_ending = max(0, max_ending + a)\n",
    "        max_slice = max(max_slice, max_ending)\n",
    "    return max_slice"
   ]
  },
  {
   "cell_type": "markdown",
   "metadata": {},
   "source": [
    "# Chapter 10: Prime and composite numbers"
   ]
  },
  {
   "cell_type": "markdown",
   "metadata": {},
   "source": [
    "Let’s count the number of divisors of n. The easiest approach is to iterate through all the numbers from 1 to n and check whether or not each one is a divisor. The time complexity of this solution is O(n).\n",
    "\n",
    "There is a simple way to improve the above solution. Based on one divisor, we can find the symmetric divisor. More precisely, if number a is a divisor of n, then n/a is also a divisor. One of these two divisors is less than or equal to √n. (If that were not the case, n would be a product of two numbers greater than √ n, which is impossible.)\n",
    "\n",
    "Thus, iterating through all the numbers from 1 to √n allows us to find all the divisors. If number n is of the form k 2 , then the symmetric divisor of k is also k. This divisor should be counted just once."
   ]
  },
  {
   "cell_type": "code",
   "execution_count": 77,
   "metadata": {
    "collapsed": true
   },
   "outputs": [],
   "source": [
    "# Counting the number of divisors — O(√n).\n",
    "def divisors(n):\n",
    "    i = 1\n",
    "    result = 0\n",
    "    while (i * i < n):\n",
    "        if (n % i == 0):\n",
    "            result += 2\n",
    "        i += 1\n",
    "    if (i * i == n):\n",
    "        result += 1\n",
    "    return result"
   ]
  },
  {
   "cell_type": "markdown",
   "metadata": {},
   "source": [
    "The primality test of n can be performed in an analogous way to counting the divisors. If we find a number between 2 and n−1 that divides n then n is a composite number. Otherwise, n is a prime number.\n",
    "\n",
    "We assume that 1 is neither a prime nor a composite number, so the above algorithm works\n",
    "only for n › 2."
   ]
  },
  {
   "cell_type": "code",
   "execution_count": 78,
   "metadata": {
    "collapsed": true
   },
   "outputs": [],
   "source": [
    "# Primality test — O( √ n).\n",
    "def primality(n):\n",
    "    i = 2\n",
    "    while (i * i <= n):\n",
    "        if (n % i == 0):\n",
    "            return False\n",
    "        i += 1\n",
    "    return True"
   ]
  },
  {
   "cell_type": "markdown",
   "metadata": {},
   "source": [
    "Problem: Consider n coins aligned in a row. Each coin is showing heads at the beginning.\n",
    "\n",
    "1 2 3 4 5 6 7 8 9 10\n",
    "\n",
    "Then, n people turn over corresponding coins as follows. Person i reverses coins with numbers that are multiples of i. That is, person i flips coins i, 2·i, 3·i, ... until no more appropriate coins remain. The goal is to count the number of coins showing tails. In the above example, the final configuration is:\n",
    "\n",
    "**1** 2 3 **4** 5 6 7 8 **9** 10\n",
    "\n",
    "Solution O(nlogn): We can simulate the results of each person reversing coins."
   ]
  },
  {
   "cell_type": "code",
   "execution_count": 79,
   "metadata": {
    "collapsed": true
   },
   "outputs": [],
   "source": [
    "# Reversing coins — O(nlogn).\n",
    "def coins(n):\n",
    "    result = 0\n",
    "    coin = [0]*(n + 1)\n",
    "    for i in xrange(1, n + 1):\n",
    "        k = i\n",
    "        while (k <= n):\n",
    "            coin[k] = (coin[k] + 1) % 2\n",
    "            k += i\n",
    "        result += coin[i]\n",
    "    return resul"
   ]
  },
  {
   "cell_type": "markdown",
   "metadata": {},
   "source": [
    "The number of operation can be estimated by n/1 + n/2 + ... + n/n, what equals n·(1/1 + 1/2 + ... + 1/n). The sums of multiplicative inverses (reciprocals) of the first n numbers are called harmonic numbers, which asymptotically equal O(logn). In summary, the total time complexity is O(nlogn).\n",
    "\n",
    "Solution O(logn): Notice that each coin will be turned over exactly as many times as the number of its divisors. The coins that are reversed an odd number of times show tails, meaning that it is sufficient to find the coins with an odd number of divisors.\n",
    "We know that almost every number has a symmetric divisor (apart from divisors of the form √n). Thus, every number of the form k 2 has an odd number of divisors. There are exactly |√n| such numbers between 1 and n. Finding the value of |√n| takes logarithmic time (or constant time if we use operations on floating point numbers)."
   ]
  },
  {
   "cell_type": "markdown",
   "metadata": {},
   "source": [
    "#Chapter 11 Sieve of Eratosthenes"
   ]
  },
  {
   "cell_type": "markdown",
   "metadata": {},
   "source": [
    "The Sieve of Eratosthenes is a very simple and popular technique for finding all the prime numbers in the range from 2 to a given number n. The algorithm takes its name from the process of sieving—in a simple way we remove multiples of consecutive numbers.\n",
    "\n",
    "Initially, we have the set of all the numbers {2,3,...,n}. At each step we choose the smallest number in the set and remove all its multiples. Notice that every composite number has a divisor of at most sqrt(n). In particular, it has a divisor which is a prime number. It is su?cient to remove only multiples of prime numbers not exceeding sqrt(n). In this way, all composite numbers will be removed.\n",
    "\n",
    "The above algorithm can be slightly improved. Notice that we needn’t cross out multiples of i which are less than i^2. Such multiples are of the form k · i, where k < i. These have already been removed by one of the prime divisors of k. After this improvement, we obtain the following implementation"
   ]
  },
  {
   "cell_type": "code",
   "execution_count": 81,
   "metadata": {
    "collapsed": true
   },
   "outputs": [],
   "source": [
    "# O(n*log(log(n)))\n",
    "def sieve(n):\n",
    "    sieve = [True] * (n + 1)\n",
    "    sieve[0] = sieve[1] = False\n",
    "    i = 2\n",
    "    while (i * i <= n):\n",
    "        if (sieve[i]):\n",
    "            k = i * i\n",
    "            while (k <= n):\n",
    "                sieve[k] = False\n",
    "                k += i\n",
    "        i += 1\n",
    "    return sieve"
   ]
  },
  {
   "cell_type": "markdown",
   "metadata": {},
   "source": [
    "Factorization is the process of decomposition into prime factors. More precisely, for a given number x we want to find primes p[1] ,p[2] ,...,p[k] whose product equals x. Use of the sieve enables fast factorization. Let’s modify the sieve algorithm slightly For every crossed number we will remember the smallest prime that divides this number."
   ]
  },
  {
   "cell_type": "code",
   "execution_count": 83,
   "metadata": {
    "collapsed": false
   },
   "outputs": [],
   "source": [
    "# Preparing the array F for factorization.\n",
    "def arrayF(n):\n",
    "    F = [0] * (n + 1)\n",
    "    i = 2\n",
    "    while (i * i <= n):\n",
    "        if (F[i] == 0):\n",
    "            k = i * i\n",
    "            while (k <= n):\n",
    "                if (F[k] == 0):\n",
    "                    F[k] = i;\n",
    "                k += i\n",
    "        i += 1\n",
    "    return F\n",
    "\n",
    "# Factorization of x — O(logx).\n",
    "def factorization(x, F):\n",
    "    primeFactors = []\n",
    "    while (F[x] > 0):\n",
    "        primeFactors += [F[x]]\n",
    "        x /= F[x]\n",
    "    primeFactors += [x]\n",
    "    return primeFactors"
   ]
  },
  {
   "cell_type": "markdown",
   "metadata": {},
   "source": [
    "With this approach we can factorize numbers very quickly. If we know that one of the prime factors of x is p, then all the prime factors of x are p plus the decomposition of x/p.\n",
    "\n",
    "Number x cannot have more than log x prime factors, because every prime factor is >= 2. Factorization by the above method works in O(logx) time complexity. Note that consecutive factors will be presented in non-decreasing order."
   ]
  },
  {
   "cell_type": "markdown",
   "metadata": {},
   "source": [
    "# Chapter 12 Euclidean algorithm"
   ]
  },
  {
   "cell_type": "markdown",
   "metadata": {},
   "source": [
    "Euclidean algorithm is one of the oldest numerical algorithms still to be in common use. It solves the problem of computing the greatest common divisor (gcd) of two positive integers.\n",
    "\n",
    "The original version of Euclid’s algorithm is based on subtraction: we recursively subtract the smaller number from the larger."
   ]
  },
  {
   "cell_type": "code",
   "execution_count": 84,
   "metadata": {
    "collapsed": true
   },
   "outputs": [],
   "source": [
    "def gcd(a, b):\n",
    "    if a == b:\n",
    "        return a\n",
    "    if a > b:\n",
    "        gcd(a - b, b)\n",
    "    else:\n",
    "        gcd(a, b - a)"
   ]
  },
  {
   "cell_type": "markdown",
   "metadata": {},
   "source": [
    "Let’s estimate this algorithm’s time complexity (based on n = a+b). The number of steps can be linear, for e.g. gcd(x,1), so the time complexity is O(n). This is the worst-case complexity, because the value x + y decreases with every step"
   ]
  },
  {
   "cell_type": "code",
   "execution_count": 85,
   "metadata": {
    "collapsed": true
   },
   "outputs": [],
   "source": [
    "def gcd(a, b):\n",
    "    if a % b == 0:\n",
    "        return b\n",
    "    else:\n",
    "        return gcd(b, a % b)"
   ]
  },
  {
   "cell_type": "markdown",
   "metadata": {},
   "source": [
    "This algorithm finds the gcd using only subtraction, binary representation, shifting and parity testing. We will use a divide and conquer technique. The following function calculate gcd(a, b, res) = gcd(a,b,1) · res. So to calculate gcd(a,b) it su?ces to call gcd(a, b, 1) = gcd(a,b)."
   ]
  },
  {
   "cell_type": "code",
   "execution_count": 86,
   "metadata": {
    "collapsed": true
   },
   "outputs": [],
   "source": [
    "# Greatest common divisor using binary Euclidean algorithm.\n",
    "def gcd(a, b, res):\n",
    "    if a == b:\n",
    "        return res * a\n",
    "    elif (a % 2 == 0) and (b % 2 == 0):\n",
    "        return gcd(a // 2, b // 2, 2 * res)\n",
    "    elif (a % 2 == 0):\n",
    "        return gcd(a // 2, b, res)\n",
    "    elif (b % 2 == 0):\n",
    "        return gcd(a, b // 2, res)\n",
    "    elif a > b:\n",
    "        return gcd(a - b, b, res)\n",
    "    else:\n",
    "        return gcd(a, b - a, res)"
   ]
  },
  {
   "cell_type": "markdown",
   "metadata": {},
   "source": [
    "This algorithm is superior to the previous one for very large integers when it cannot be assumed that all the arithmetic operations used here can be done in a constant time. Due to the binary representation, operations are performed in linear time based on the length of the binary representation, even for very big integers. On the other hand, modulo applied in algorithm 10.2 has worse time complexity. It exceeds O(logn · loglogn), where n = a + b."
   ]
  },
  {
   "cell_type": "markdown",
   "metadata": {},
   "source": [
    "# Chapter 13 Fibonacci numbers"
   ]
  },
  {
   "cell_type": "markdown",
   "metadata": {},
   "source": [
    "The Fibonacci numbers form a sequence of integers defined recursively in the following way. The first two numbers in the Fibonacci sequence are 0 and 1, and each subsequent number is the sum of the previous two.\n",
    "\n",
    "The first twelve Fibonacci numbers are:\n",
    "0 1 1 2 3 5 8 13 21 34 55 89"
   ]
  },
  {
   "cell_type": "code",
   "execution_count": null,
   "metadata": {
    "collapsed": true
   },
   "outputs": [],
   "source": [
    "# Finding Fibonacci numbers recursively.\n",
    "def fibonacci(n):\n",
    "    if (n <= 1):\n",
    "        return n\n",
    "    return fibonacci(n - 1) + fibonacci(n - 2)"
   ]
  },
  {
   "cell_type": "markdown",
   "metadata": {},
   "source": [
    "The above algorithm performs F[n] additions of 1, and, as the sequence grows exponentially, we get an ine?cient solution.\n",
    "Enumeration of the Fibonacci numbers can be done faster simply by using a basis of dynamic programming. We can calculate the values F[0] ,F[1] ,...,F[n] based on the previously calculated numbers (it is sufficient to remember only the last two values)."
   ]
  },
  {
   "cell_type": "code",
   "execution_count": 88,
   "metadata": {
    "collapsed": true
   },
   "outputs": [],
   "source": [
    "# Finding Fibonacci numbers dynamically.\n",
    "def fibonacciDynamic(n):\n",
    "    fib = [0] *(n + 2)\n",
    "    fib[1] = 1\n",
    "    for i in xrange(2, n + 1):\n",
    "        fib[i] = fib[i - 1] + fib[i - 2]\n",
    "    return fib[n]"
   ]
  },
  {
   "cell_type": "markdown",
   "metadata": {},
   "source": [
    "The time complexity of the above algorithm is O(n)."
   ]
  },
  {
   "cell_type": "markdown",
   "metadata": {},
   "source": [
    "# Chapter 14 Binary search algorithm"
   ]
  },
  {
   "cell_type": "markdown",
   "metadata": {},
   "source": [
    "The binary search is a simple and very useful algorithm whereby many linear algorithms can be optimized to run in logarithmic time.\n",
    "\n",
    "Imagine the following game. The computer selects an integer value between 1 and 16 and our goal is to guess this number with a minimum number of questions. For each guessed number the computer states whether the guessed number is equal to, bigger or smaller than the number to be guessed.\n",
    "\n",
    "1 2 3 4 5 6 7 8 9 10 **11** 12 13 14 15 16\n",
    "\n",
    "The iterative check of all the successive values 1,2,...,16 is linear, because with each question the set of the candidates is reduced by one.\n",
    "The goal is to ask a question that reduces the set of candidates maximally. The best option is to choose the middle element, as doing so causes the set of candidates to be halved each time. With this approach, we ask the logarithmic number of questions at maximum."
   ]
  },
  {
   "cell_type": "code",
   "execution_count": 89,
   "metadata": {
    "collapsed": true
   },
   "outputs": [],
   "source": [
    "# Binary search in O(logn).\n",
    "def binarySearch(A, x):\n",
    "    n = len(A)\n",
    "    beg = 0\n",
    "    end = n - 1\n",
    "    result = -1\n",
    "    while (beg <= end):\n",
    "        mid = (beg + end) / 2\n",
    "        if (A[mid] <= x):\n",
    "            beg = mid + 1\n",
    "            result = mid\n",
    "        else:\n",
    "            end = mid - 1\n",
    "    return result"
   ]
  },
  {
   "cell_type": "markdown",
   "metadata": {},
   "source": [
    "The above algorithm will find the largest element which is less than or equal to x. In subsequent iterations the number of candidates is halved, so the time complexity is O(logn). It is noteworthy that the above implementation is universal; it is enough to modify only the condition inside the while loop\n",
    "\n",
    "In many tasks, we should return some integer that is both optimal and that meets certain conditions. We can often find this number using a binary search. We guess some value and then check whether the result should be smaller or bigger. At the start we have a certain range in which we can find the result. After each attempt the range is halved, so the number of questions can be estimated by O(logn). Thus, the problem of finding the optimal value reduces to checking whether some value is valid and optimal. The latter problem is often much simpler, and the binary search adds only a logn factor to the overall time complexity."
   ]
  },
  {
   "cell_type": "markdown",
   "metadata": {},
   "source": [
    "Problem: You are given n binary values x[0] ,x[1] ,...,x[n−1] , such that x[i] ∈ {0,1}. This array represents holes in a roof (1 is a hole). You are also given k boards of the same size. The goal is to choose the optimal (minimal) size of the boards that allows all the holes to be covered by boards.\n",
    "\n",
    "Solution: The size of the boards can be found with a binary search. If size x is sufficient to cover all the holes, then we know that sizes x+1,x+2,...,n are also sufficient. On the other hand, if we know that x is not sufficient to cover all the holes, then sizes x − 1,x − 2,...,1 are also insufficient."
   ]
  },
  {
   "cell_type": "code",
   "execution_count": 90,
   "metadata": {
    "collapsed": true
   },
   "outputs": [],
   "source": [
    "# Binary search in O(logn).\n",
    "def boards(A, k):\n",
    "    n = len(A)\n",
    "    beg = 1\n",
    "    end = n\n",
    "    result = -1\n",
    "    while (beg <= end):\n",
    "        mid = (beg + end) / 2\n",
    "        if (check(A, mid) <= k):\n",
    "            end = mid - 1\n",
    "            result = mid\n",
    "        else:\n",
    "            beg = mid + 1\n",
    "    return result"
   ]
  },
  {
   "cell_type": "markdown",
   "metadata": {},
   "source": [
    "There is the question of how to check whether size x is sufficient. We can go through all the indices from the left to the right and greedily count the boards. We add a new board only if there is a hole that is not covered by the last board."
   ]
  },
  {
   "cell_type": "code",
   "execution_count": 91,
   "metadata": {
    "collapsed": true
   },
   "outputs": [],
   "source": [
    "# Greedily check in O(n).\n",
    "def check(A, k):\n",
    "    n = len(A)\n",
    "    boards = 0\n",
    "    last = -1\n",
    "    for i in xrange(n):\n",
    "        if A[i] == 1 and last < i:\n",
    "            boards += 1\n",
    "            last = i + k - 1\n",
    "    return boards"
   ]
  },
  {
   "cell_type": "markdown",
   "metadata": {},
   "source": [
    "Total time complexity of such a solution is O(nlogn) due to the binary search time."
   ]
  },
  {
   "cell_type": "markdown",
   "metadata": {},
   "source": [
    "# Chapter 15 Caterpillar method"
   ]
  },
  {
   "cell_type": "markdown",
   "metadata": {},
   "source": [
    "The Caterpillar method is a likeable name for a popular means of solving algorithmic tasks. The idea is to check elements in a way that’s reminiscent of movements of a caterpillar. The caterpillar crawls through the array. We remember the front and back positions of the caterpillar, and at every step either of them is moved forward.\n",
    "\n",
    "Let’s check whether a sequence a[0] ,a[1] ,...,a[n-1] (1 <= a[i] <= 10^9) contains a contiguous subsequence whose sum of elements equals s. For example, in the following sequence we are looking for a subsequence whose total equals s = 12.\n",
    "\n",
    "|a[0]| a[1]| a[2]| a[3]| a[4]| a[5]| a[6]| \n",
    "|---|---|---|---|---|---|---|\n",
    "|6 |2 |**7** |**4** |**1** |3 |6|\n",
    "\n",
    "Each position of the caterpillar will represent a different contiguous subsequence in which the total of the elements is not greater than s. Let’s initially set the caterpillar on the first element. Next we will perform the following steps:\n",
    "\n",
    "* if we can, we move the right end (front) forward and increase the size of the caterpillar;\n",
    "* otherwise, we move the left end (back) forward and decrease the size of the caterpillar.\n",
    "\n",
    "In this way, for every position of the left end we know the longest caterpillar that covers elements whose total is not greater than s. If there is a subsequence whose total of elements equals s, then there certainly is a moment when the caterpillar covers all its elements."
   ]
  },
  {
   "cell_type": "code",
   "execution_count": 93,
   "metadata": {
    "collapsed": true
   },
   "outputs": [],
   "source": [
    "def caterpillarMethod(A, s):\n",
    "    n = len(A)\n",
    "    front, total = 0, 0\n",
    "    for back in xrange(n):\n",
    "        while (front < n and total + A[front] <= s):\n",
    "            total += A[front]\n",
    "            front += 1\n",
    "        if total == s:\n",
    "            return True\n",
    "        total -= A[back]\n",
    "    return False"
   ]
  },
  {
   "cell_type": "markdown",
   "metadata": {},
   "source": [
    "Let’s estimate the time complexity of the above algorithm. At the first glance we have two nested loops, what suggest quadratic time. However, notice that at every step we move the front or the back of the caterpillar, and their positions will never exceed n. Thus we actually get an O(n) solution. The above estimation of time complexity is based on amortized cost, which will be explained more precisely in future lessons"
   ]
  },
  {
   "cell_type": "markdown",
   "metadata": {},
   "source": [
    "Problem: You are given n sticks (of lengths 1 <= a[0] <= a[1] <= ... <= a[n-1] <= 10^9). The goal is to count the number of triangles that can be constructed using these sticks. More precisely, we have to count the number of triplets at indices x < y < z, such that a[x] + a[y] > a[z]\n",
    "\n",
    "Solution O(n^2): For every pair x,y we can find the largest stick z that can be used to construct the triangle. Every stick k, such that y < k <= z, can also be used, because the condition a[x] + a[y] > a[k] will still be true. We can add up all these triangles at once. \n",
    "\n",
    "If the value z is found every time from the beginning then we get a O(n^3) time complexity solution. However, we can instead use the caterpillar method. When increasing the value of y, we can increase (as far as possible) the value of z"
   ]
  },
  {
   "cell_type": "code",
   "execution_count": 95,
   "metadata": {
    "collapsed": true
   },
   "outputs": [],
   "source": [
    "# The number of triangles in O(n 2 ).\n",
    "def triangles(A):\n",
    "    n = len(A)\n",
    "    result = 0\n",
    "    for x in xrange(n):\n",
    "        z = x + 2\n",
    "        for y in xrange(x + 1, n):\n",
    "            while (z < n and A[x] + A[y] > A[z]):\n",
    "                z += 1\n",
    "            result += z - y - 1\n",
    "    return result"
   ]
  },
  {
   "cell_type": "markdown",
   "metadata": {},
   "source": [
    "The time complexity of the above algorithm is O(n^2), because for every stick x the values of y and z increase O(n) number of times."
   ]
  },
  {
   "cell_type": "markdown",
   "metadata": {},
   "source": [
    "# Chapter 16 Greedy algorithms"
   ]
  },
  {
   "cell_type": "markdown",
   "metadata": {},
   "source": [
    "Greedy programming is a method by which a solution is determined based on making the locally optimal choice at any given moment.\n",
    "In other words, we choose the best decision from the viewpoint of the current stage of the solution. Depending on the problem, the greedy method of solving a task may or may not be the best approach. If it is not the best approach, then it often returns a result which is approximately correct but suboptimal. In such cases dynamic programming or brute-force can be the optimal approach. On the other hand, if it works correctly, its running time is usually faster than those of dynamic programming or brute-force."
   ]
  },
  {
   "cell_type": "markdown",
   "metadata": {},
   "source": [
    "__Coin Changing problem__\n",
    "\n",
    "For a given set of denominations, you are asked to find the minimum number of coins with which a given amount of money can be paid. That problem can be approached by a greedy algorithm that always selects the largest denomination not exceeding the remaining amount of money to be paid. As long as the remaining amount is greater than zero, the process is repeated.\n",
    "\n",
    "A correct algorithm should always return the minimum number of coins. It turns out that the greedy algorithm is correct for only some denomination selections, but not for all. For example, for coins of values 1, 2 and 5 the algorithm returns the optimal number of coins for each amount of money, but for coins of values 1, 3 and 4 the algorithm may return a suboptimal result. An amount of 6 will be paid with three coins: 4, 1 and 1 by using the greedy algorithm. The optimal number of coins is actually only two: 3 and 3. Consider n denominations 0 <= m[0] ‹= m[1] ‹= ... ‹= m[n−1] and the amount k to be paid."
   ]
  },
  {
   "cell_type": "code",
   "execution_count": 96,
   "metadata": {
    "collapsed": true
   },
   "outputs": [],
   "source": [
    "# The greedy algorithm for finding change.\n",
    "def greedyCoinChanging(M, k):\n",
    "    n = len(M)\n",
    "    result = []\n",
    "    for i in xrange(n - 1, -1, -1):\n",
    "        result += [(M[i], k // M[i])]\n",
    "        k %= M[i]\n",
    "    return result"
   ]
  },
  {
   "cell_type": "markdown",
   "metadata": {},
   "source": [
    "The function returns the list of pairs: denomination, number of coins. The time complexity of the above algorithm is O(n) as the number of coins is added once for every denomination."
   ]
  },
  {
   "cell_type": "markdown",
   "metadata": {},
   "source": [
    "# Chapter 17 Dynamic programming"
   ]
  },
  {
   "cell_type": "markdown",
   "metadata": {},
   "source": [
    "Dynamic programming is a method by which a solution is determined based on solving successively similar but smaller problems. This technique is used in algorithmic tasks in which the solution of a bigger problem is relatively easy to find, if we have solutions for its sub-problems."
   ]
  },
  {
   "cell_type": "markdown",
   "metadata": {},
   "source": [
    "### The Coin Changing problem\n",
    "\n",
    "For a given set of denominations, you are asked to find the minimum number of coins with which a given amount of money can be paid. Assume that you can use as many coins of a particular denomination as necessary. The greedy algorithmic approach is always to select the largest denomination not exceeding the remaining amount of money to be paid. As long as the remaining amount is greater than zero, the process is repeated. However, this algorithm may return a suboptimal result. For instance, for an amount of 6 and coins of values 1,3,4,we get 6 = 4 + 1 + 1, but the optimal solution here is 6 = 3 + 3.\n",
    "\n",
    "A dynamic algorithm finds solutions to this problem for all amounts not exceeding the given amount, and for increasing sets of denominations. For the example data, it would consider all the amounts from 0 to 6, and the following sets of denominations: ∅,{1},{1,3} and {1,3,4}. Let dp[i,j] be the minimum number of coins needed to pay the amount j if we use the set containing the i smallest denominations. The number of coins needed must satisfy the following rules:\n",
    "\n",
    "* no coins are needed to pay a zero amount: dp[i,0] = 0 (for all i);\n",
    "* if there are no denominations and the amount is positive, there is no solution, so for convenience the result can be infinite in this case: dp[0,j] = ∞ (for all j > 0);\n",
    "* if the amount to be paid is smaller than the highest denomination c i , this denomination can be discarded: dp[i,j] = dp[i − 1,j] (for all i > 0 and all j such that c[i] > j);\n",
    "* otherwise, we should consider two options and choose the one requiring fewer coins: either we use a coin of the highest denomination, and a smaller amount to be paid remains, or we don’t use coins of the highest denomination (and the denomination can thus be discarded): dp[i,j] = min(dp[i,j − c[i]] + 1,dp[i − 1,j]) (for all i > 0 and all j such that c[i] <= j).\n",
    "\n",
    "The following table shows all the solutions to sub-problems considered for the example data.\n",
    "\n",
    "|dp[i,j] |0 |1 |2 |3 |4 |5 |6|\n",
    "|---|---|---|---|---|---|---|\n",
    "|∅ |0 |∞ |∞ |∞ |∞ |∞ |∞|\n",
    "|{1}| 0 |1 |2 |3 |4 |5 |6|\n",
    "|{1,3}| 0| 1| 2| 1| 2| 3| 2|\n",
    "|{1,3,4}| 0| 1| 2| 1| 1| 2| 2|\n",
    "\n",
    "Consider n denominations, 0 < c[0]  <= c[1] <= ... <= c[n−1]. The algorithm processes the respective denominations and calculates the minimum number of coins needed to pay every amount from 0 to k. When considering each successive denomination, we use the previously calculated results for the smaller amounts."
   ]
  },
  {
   "cell_type": "code",
   "execution_count": 97,
   "metadata": {
    "collapsed": true
   },
   "outputs": [],
   "source": [
    "# The dynamic algorithm for finding change.\n",
    "def dynamic_coin_changing(C, k):\n",
    "    n = len(C)\n",
    "    # create two-dimensional array with all zeros\n",
    "    dp = [[0] * (k + 1) for i in xrange(n + 1)]\n",
    "    dp[0] = [0] + [MAX_INT] * k\n",
    "    for i in xrange(1, n + 1):\n",
    "        for j in xrange(C[i - 1]):\n",
    "            dp[i][j] = dp[i - 1][j]\n",
    "        for j in xrange(C[i - 1], k + 1):\n",
    "            dp[i][j] = min(dp[i][j - C[i - 1]] + 1, dp[i - 1][j])\n",
    "    return dp[n]"
   ]
  },
  {
   "cell_type": "markdown",
   "metadata": {},
   "source": [
    "Both the time complexity and the space complexity of the above algorithm is O(n·k). In the above implementation, memory usage can be optimized. Notice that, during the calculation of dp, we only use the previous row, so we don’t need to remember all of the rows."
   ]
  },
  {
   "cell_type": "code",
   "execution_count": 98,
   "metadata": {
    "collapsed": true
   },
   "outputs": [],
   "source": [
    "# The dynamic algorithm for finding change with optimized memory.\n",
    "def dynamic_coin_changing(C, k):\n",
    "    n = len(C)\n",
    "    dp = [0] + [MAX_INT]*k\n",
    "    for i in xrange(1, n + 1):\n",
    "        for j in xrange(C[i - 1], k + 1):\n",
    "            dp[j] = min(dp[j - C[i - 1]] + 1, dp[j])\n",
    "    return dp"
   ]
  },
  {
   "cell_type": "markdown",
   "metadata": {},
   "source": [
    "The time complexity is O(n · k) and the space complexity is O(k)."
   ]
  },
  {
   "cell_type": "markdown",
   "metadata": {},
   "source": [
    "Problem: A small frog wants to get from position 0 to k (1 <= k <= 10000). The frog can jump over any one of n fixed distances s 0 ,s[1] ,..., s[n−1] (1 <= s[i] <= k). The goal is to count the number of different ways in which the frog can jump to position k. To avoid overflow, it is sufficient to return the result modulo q, where q is a given number. We assume that two patterns of jumps are different if, in one pattern, the frog visits a position which is not visited in the other pattern.\n",
    "\n",
    "Solution O(n · k): The task can be solved by using dynamic programming. Let’s create an array dp consisting of k elements, such that dp[j] will be the number of ways in which the frog can jump to position j.\n",
    "\n",
    "We update consecutive cells of array dp. There is exactly one way for the frog to jump to position 0, so dp[0] = 1. Next, consider some position j > 0.\n",
    "The number of ways in which the frog can jump to position j with a final jump of s[i] is dp[j − s[i] ]. Thus, the number of ways in which the frog can get to position j is increased by the number of ways of getting to position j − s[i] , for every jump s[i].\n",
    "\n",
    "More precisely, dp[j] is increased by the value of dp[j − s[i]] (for all s[i] <= j) modulo q."
   ]
  },
  {
   "cell_type": "code",
   "execution_count": 99,
   "metadata": {
    "collapsed": true
   },
   "outputs": [],
   "source": [
    "# Solution in time complexity O(n · k) and space complexity O(k).\n",
    "def frog(S, k, q):\n",
    "    n = len(S)\n",
    "    dp = [1] + [0]*k\n",
    "    for j in xrange(1, k + 1):\n",
    "        for i in xrange(n):\n",
    "            if S[i] <= j:\n",
    "                dp[j] = (dp[j] + dp[j - S[i]]) % q;\n",
    "    return dp[k]"
   ]
  },
  {
   "cell_type": "markdown",
   "metadata": {},
   "source": [
    "The time complexity is O(n·k) (all cells of array dp are visited for every jump) and the space complexity is O(k)."
   ]
  },
  {
   "cell_type": "code",
   "execution_count": null,
   "metadata": {
    "collapsed": true
   },
   "outputs": [],
   "source": []
  }
 ],
 "metadata": {
  "kernelspec": {
   "display_name": "Python 2",
   "language": "python",
   "name": "python2"
  },
  "language_info": {
   "codemirror_mode": {
    "name": "ipython",
    "version": 2
   },
   "file_extension": ".py",
   "mimetype": "text/x-python",
   "name": "python",
   "nbconvert_exporter": "python",
   "pygments_lexer": "ipython2",
   "version": "2.7.11"
  }
 },
 "nbformat": 4,
 "nbformat_minor": 0
}
