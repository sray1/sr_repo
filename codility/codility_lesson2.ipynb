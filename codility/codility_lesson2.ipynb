{
 "cells": [
  {
   "cell_type": "code",
   "execution_count": 6,
   "metadata": {
    "collapsed": false
   },
   "outputs": [
    {
     "name": "stdout",
     "output_type": "stream",
     "text": [
      "X  5\n",
      "A  [1, 2, 3, 3, 2, 5, 4, 3, 5, 3, 2]\n",
      "covered_time [-1, -1, -1, -1, -1]\n",
      "uncovered 5\n",
      "index 0\n",
      "covered_time [0, -1, -1, -1, -1]\n",
      "uncovered 4\n",
      "index 1\n",
      "covered_time [0, 1, -1, -1, -1]\n",
      "uncovered 3\n",
      "index 2\n",
      "covered_time [0, 1, 2, -1, -1]\n",
      "uncovered 2\n",
      "index 3\n",
      "index 4\n",
      "index 5\n",
      "covered_time [0, 1, 2, -1, 5]\n",
      "uncovered 1\n",
      "index 6\n",
      "covered_time [0, 1, 2, 6, 5]\n",
      "uncovered 0\n",
      "6\n"
     ]
    }
   ],
   "source": [
    "#Solution to Frog-River-One by codility\n",
    "\n",
    "def solution(X, A):\n",
    "    print \"X \",X\n",
    "    print \"A \",A\n",
    "    covered_time = [-1]*X  # Record the time, each position is covered\n",
    "    print \"covered_time\", covered_time\n",
    "    uncovered = X          # Record the number of uncovered position\n",
    "    print \"uncovered\", uncovered\n",
    "    for index in range(0,len(A)):\n",
    "        print \"index\", index\n",
    "        if covered_time[A[index]-1] != -1:\n",
    "            # This position is already covered\n",
    "            continue\n",
    "        else:\n",
    "            # This position is to be covered\n",
    "            covered_time[A[index]-1] = index\n",
    "            uncovered -= 1\n",
    "            print \"covered_time\", covered_time\n",
    "            print \"uncovered\", uncovered\n",
    "            if uncovered == 0:\n",
    "                # All positions are covered\n",
    "                return index\n",
    " \n",
    "    # Finally, some positions are not covered\n",
    "    return -1\n",
    "\n",
    "print solution(5, [1,2,3,3,2,5,4,3,5,3,2])"
   ]
  },
  {
   "cell_type": "code",
   "execution_count": 2,
   "metadata": {
    "collapsed": false
   },
   "outputs": [
    {
     "name": "stdout",
     "output_type": "stream",
     "text": [
      "-1\n"
     ]
    }
   ],
   "source": [
    "print solution(4, [2,3,2,3])"
   ]
  },
  {
   "cell_type": "code",
   "execution_count": 7,
   "metadata": {
    "collapsed": true
   },
   "outputs": [],
   "source": [
    "def solution(X, A):\n",
    "    # write your code in Python 2.7\n",
    "    covered = 0\n",
    "    covered_a = [-1]*X\n",
    "    for index,element in enumerate(A):\n",
    "        if element not in covered_a:\n",
    "            covered_a[element-1] = element\n",
    "            covered += 1\n",
    "            if covered == X:\n",
    "                return index\n",
    "    return -1\n",
    "# 100/16 = 54%\n",
    "\n",
    "def solution(X, A):\n",
    "# write your code in Python 2.7\n",
    "    covered = 0\n",
    "    covered_a = [-1]*X\n",
    "    for index,element in enumerate(A):\n",
    "        if covered_a[element-1] == -1:\n",
    "            covered_a[element-1] = element\n",
    "            covered += 1\n",
    "            if covered == X:\n",
    "                return index\n",
    "    return -1\n",
    "#100%"
   ]
  },
  {
   "cell_type": "code",
   "execution_count": 8,
   "metadata": {
    "collapsed": false
   },
   "outputs": [
    {
     "name": "stdout",
     "output_type": "stream",
     "text": [
      "-1\n"
     ]
    }
   ],
   "source": [
    "print solution(4, [2,3,2,3])"
   ]
  },
  {
   "cell_type": "code",
   "execution_count": 9,
   "metadata": {
    "collapsed": false
   },
   "outputs": [
    {
     "name": "stdout",
     "output_type": "stream",
     "text": [
      "6\n"
     ]
    }
   ],
   "source": [
    "print solution(5, [1,2,3,3,2,5,4,3,5,3,2])"
   ]
  },
  {
   "cell_type": "code",
   "execution_count": 12,
   "metadata": {
    "collapsed": true
   },
   "outputs": [],
   "source": [
    "def solution(X, A):\n",
    "    checker=0\n",
    "    final_val=pow(2,5)-1\n",
    "    print \"final_val\", final_val\n",
    "    for x in range(len(A)):\n",
    "        # << bit-wise left shift\n",
    "        checker=checker| 1<<(A[x]-1)\n",
    "        print \"checker\", checker\n",
    " \n",
    "        if(checker==final_val):\n",
    "            return x\n",
    " \n",
    "    return -1"
   ]
  },
  {
   "cell_type": "code",
   "execution_count": 13,
   "metadata": {
    "collapsed": false
   },
   "outputs": [
    {
     "name": "stdout",
     "output_type": "stream",
     "text": [
      "final_val 31\n",
      "checker 1\n",
      "checker 3\n",
      "checker 7\n",
      "checker 7\n",
      "checker 7\n",
      "checker 23\n",
      "checker 31\n",
      "6\n"
     ]
    }
   ],
   "source": [
    "print solution(5, [1,2,3,3,2,5,4,3,5,3,2])"
   ]
  },
  {
   "cell_type": "code",
   "execution_count": 18,
   "metadata": {
    "collapsed": false
   },
   "outputs": [
    {
     "data": {
      "text/plain": [
       "8"
      ]
     },
     "execution_count": 18,
     "metadata": {},
     "output_type": "execute_result"
    }
   ],
   "source": [
    "1<<3"
   ]
  },
  {
   "cell_type": "code",
   "execution_count": 19,
   "metadata": {
    "collapsed": false
   },
   "outputs": [
    {
     "data": {
      "text/plain": [
       "4"
      ]
     },
     "execution_count": 19,
     "metadata": {},
     "output_type": "execute_result"
    }
   ],
   "source": [
    "1<<2"
   ]
  },
  {
   "cell_type": "code",
   "execution_count": 8,
   "metadata": {
    "collapsed": true
   },
   "outputs": [],
   "source": [
    "def solution(A):\n",
    "    ''' Solve it with Pigeonhole principle.\n",
    "        There are N integers in the input. So for the\n",
    "        first N+1 positive integers, at least one of \n",
    "        them must be missing.\n",
    "    '''\n",
    "    # We only care about the first N+1 positive integers.\n",
    "    # occurrence[i] is for the integer i+1.\n",
    "    occurrence = [False] * (len(A) + 1)\n",
    "    print occurrence\n",
    "    for item in A:\n",
    "        print \"item in A:\", item\n",
    "        if 1 <= item <= len(A) + 1:\n",
    "            occurrence[item-1] = True\n",
    "            print occurrence\n",
    "    \n",
    "    # Find out the missing minimal positive integer.\n",
    "    for index in xrange(len(A) + 1):\n",
    "        print \"index\", index\n",
    "        if occurrence[index] == False:\n",
    "            return index + 1\n",
    "    \n",
    "    raise Exception(\"Should never be here.\")\n",
    "    return -1"
   ]
  },
  {
   "cell_type": "code",
   "execution_count": 9,
   "metadata": {
    "collapsed": false
   },
   "outputs": [
    {
     "name": "stdout",
     "output_type": "stream",
     "text": [
      "[False, False, False, False, False, False]\n",
      "item in A: 1\n",
      "[True, False, False, False, False, False]\n",
      "item in A: 2\n",
      "[True, True, False, False, False, False]\n",
      "item in A: 3\n",
      "[True, True, True, False, False, False]\n",
      "item in A: 4\n",
      "[True, True, True, True, False, False]\n",
      "item in A: 6\n",
      "[True, True, True, True, False, True]\n",
      "index 0\n",
      "index 1\n",
      "index 2\n",
      "index 3\n",
      "index 4\n",
      "5\n"
     ]
    }
   ],
   "source": [
    "print solution([1,2,3,4,6])"
   ]
  },
  {
   "cell_type": "code",
   "execution_count": 11,
   "metadata": {
    "collapsed": false
   },
   "outputs": [
    {
     "name": "stdout",
     "output_type": "stream",
     "text": [
      "[False, False, False, False, False, False]\n",
      "item in A: -10\n",
      "item in A: 2\n",
      "[False, True, False, False, False, False]\n",
      "item in A: 8\n",
      "item in A: 4\n",
      "[False, True, False, True, False, False]\n",
      "item in A: 6\n",
      "[False, True, False, True, False, True]\n",
      "index 0\n",
      "1\n"
     ]
    }
   ],
   "source": [
    "print solution([-10,2,8,4,6])"
   ]
  },
  {
   "cell_type": "code",
   "execution_count": 12,
   "metadata": {
    "collapsed": false
   },
   "outputs": [
    {
     "name": "stdout",
     "output_type": "stream",
     "text": [
      "[False, False]\n",
      "item in A: 1\n",
      "[True, False]\n",
      "index 0\n",
      "index 1\n",
      "2\n"
     ]
    }
   ],
   "source": [
    "print solution([1])"
   ]
  },
  {
   "cell_type": "code",
   "execution_count": 14,
   "metadata": {
    "collapsed": false
   },
   "outputs": [],
   "source": [
    "# Solution to Max-Counters by codility\n",
    "\n",
    "def solution(N, A):\n",
    "    result = [0]*N    # The list to be returned\n",
    "    max_counter = 0   # The used value in previous max_counter command\n",
    "    current_max = 0   # The current maximum value of any counter\n",
    "    for command in A:\n",
    "        print \"command\",command\n",
    "        if 1 <= command <= N:\n",
    "            # increase(X) command\n",
    "            if max_counter > result[command-1]:\n",
    "                # lazy write\n",
    "                result[command-1] = max_counter\n",
    "            result[command-1] += 1\n",
    "            if current_max < result[command-1]:\n",
    "                current_max = result[command-1]\n",
    "        else:\n",
    "            # max_counter command\n",
    "            # just record the current maximum value for later write\n",
    "            max_counter = current_max\n",
    "        print \"result\",result\n",
    "    for index in range(0,N):\n",
    "        print \"index\",index\n",
    "        if result[index] < max_counter:\n",
    "            # This element has never been used/updated after previous\n",
    "            #     max_counter command\n",
    "            result[index] = max_counter\n",
    "            print \"result\",result\n",
    "    return result"
   ]
  },
  {
   "cell_type": "code",
   "execution_count": 15,
   "metadata": {
    "collapsed": false
   },
   "outputs": [
    {
     "name": "stdout",
     "output_type": "stream",
     "text": [
      "command 1\n",
      "result [1, 0, 0, 0, 0]\n",
      "command 2\n",
      "result [1, 1, 0, 0, 0]\n",
      "command 3\n",
      "result [1, 1, 1, 0, 0]\n",
      "command 6\n",
      "result [1, 1, 1, 0, 0]\n",
      "command 2\n",
      "result [1, 2, 1, 0, 0]\n",
      "command 6\n",
      "result [1, 2, 1, 0, 0]\n",
      "command 3\n",
      "result [1, 2, 3, 0, 0]\n",
      "index 0\n",
      "result [2, 2, 3, 0, 0]\n",
      "index 1\n",
      "index 2\n",
      "index 3\n",
      "result [2, 2, 3, 2, 0]\n",
      "index 4\n",
      "result [2, 2, 3, 2, 2]\n",
      "[2, 2, 3, 2, 2]\n"
     ]
    }
   ],
   "source": [
    "print solution (5,[1,2,3,6,2,6,3])"
   ]
  },
  {
   "cell_type": "code",
   "execution_count": 2,
   "metadata": {
    "collapsed": false
   },
   "outputs": [
    {
     "name": "stdout",
     "output_type": "stream",
     "text": [
      "min_dif 7\n",
      "head 4\n",
      "tail 9\n",
      "head 6\n",
      "tail 7\n",
      "head 10\n",
      "tail 3\n",
      "1\n"
     ]
    }
   ],
   "source": [
    "# Solution to Tape-Equilibrium\n",
    "def solution(A):\n",
    "    head = A[0]\n",
    "    tail = sum(A[1:])\n",
    "    min_dif = abs(head - tail)\n",
    "    print \"min_dif\",min_dif\n",
    " \n",
    "    for index in range(1, len(A)-1):\n",
    "        head += A[index]\n",
    "        print \"head\", head\n",
    "        tail -= A[index]\n",
    "        print \"tail\", tail\n",
    "        if abs(head-tail) < min_dif:\n",
    "            min_dif = abs(head-tail)\n",
    " \n",
    "    return min_dif\n",
    "\n",
    "print solution([3,1,2,4,3])"
   ]
  },
  {
   "cell_type": "code",
   "execution_count": 5,
   "metadata": {
    "collapsed": false
   },
   "outputs": [
    {
     "name": "stdout",
     "output_type": "stream",
     "text": [
      "left 0\n",
      "right 13\n",
      "best 7\n",
      "left 3\n",
      "right 10\n",
      "best 5\n",
      "left 4\n",
      "right 9\n",
      "best 1\n",
      "left 6\n",
      "right 7\n",
      "best 1\n",
      "1\n"
     ]
    }
   ],
   "source": [
    "def solution(A):\n",
    "    left, right = 0, sum(A)\n",
    "    best = float('Inf')\n",
    "    for a in A[:-1]:\n",
    "        print \"left\", left\n",
    "        left += a\n",
    "        print \"right\", right\n",
    "        right -= a\n",
    "        best = min(best, abs(left-right))\n",
    "        print \"best\", best\n",
    " \n",
    "    return best\n",
    "\n",
    "print solution([3,1,2,4,3])"
   ]
  },
  {
   "cell_type": "code",
   "execution_count": null,
   "metadata": {
    "collapsed": true
   },
   "outputs": [],
   "source": []
  }
 ],
 "metadata": {
  "kernelspec": {
   "display_name": "Python 2",
   "language": "python",
   "name": "python2"
  },
  "language_info": {
   "codemirror_mode": {
    "name": "ipython",
    "version": 2
   },
   "file_extension": ".py",
   "mimetype": "text/x-python",
   "name": "python",
   "nbconvert_exporter": "python",
   "pygments_lexer": "ipython2",
   "version": "2.7.10"
  }
 },
 "nbformat": 4,
 "nbformat_minor": 0
}
