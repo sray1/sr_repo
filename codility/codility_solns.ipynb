{
 "cells": [
  {
   "cell_type": "markdown",
   "metadata": {},
   "source": [
    "# Lesson 1"
   ]
  },
  {
   "cell_type": "markdown",
   "metadata": {},
   "source": [
    "Lesson 1: Solution to Binary-Gap"
   ]
  },
  {
   "cell_type": "code",
   "execution_count": 33,
   "metadata": {
    "collapsed": true
   },
   "outputs": [],
   "source": [
    "def solution(N):\n",
    "    max_gap = 0\n",
    "    current_gap = 0\n",
    "    # Skip the tailing zero(s)\n",
    "    while N > 0 and N%2 == 0:\n",
    "        N //= 2\n",
    "        print N\n",
    "    while N > 0:\n",
    "        remainder = N%2\n",
    "        if remainder == 0:\n",
    "            # Inside a gap\n",
    "            current_gap += 1\n",
    "        else:\n",
    "            # Gap ends\n",
    "            if current_gap != 0:\n",
    "                max_gap = max(current_gap, max_gap)\n",
    "                current_gap = 0\n",
    "        N //= 2\n",
    "        print N\n",
    "    return max_gap"
   ]
  },
  {
   "cell_type": "code",
   "execution_count": 34,
   "metadata": {
    "collapsed": false
   },
   "outputs": [
    {
     "name": "stdout",
     "output_type": "stream",
     "text": [
      "0b10000010010\n",
      "521\n",
      "260\n",
      "130\n",
      "65\n",
      "32\n",
      "16\n",
      "8\n",
      "4\n",
      "2\n",
      "1\n",
      "0\n"
     ]
    },
    {
     "data": {
      "text/plain": [
       "5"
      ]
     },
     "execution_count": 34,
     "metadata": {},
     "output_type": "execute_result"
    }
   ],
   "source": [
    "print bin(1042)\n",
    "solution(1042)"
   ]
  },
  {
   "cell_type": "markdown",
   "metadata": {},
   "source": [
    "# Lesson 2"
   ]
  },
  {
   "cell_type": "markdown",
   "metadata": {
    "collapsed": true
   },
   "source": [
    "Lesson 2: Solution to Odd-Occurrences-In-Array"
   ]
  },
  {
   "cell_type": "code",
   "execution_count": 5,
   "metadata": {
    "collapsed": true
   },
   "outputs": [],
   "source": [
    "def solution(A):\n",
    "    result = 0\n",
    "    for number in A:\n",
    "        print \"number\",number\n",
    "        result ^= number\n",
    "        # ^= is xor (bitwise)\n",
    "        print \"result\",result\n",
    "    return result"
   ]
  },
  {
   "cell_type": "code",
   "execution_count": 6,
   "metadata": {
    "collapsed": false
   },
   "outputs": [
    {
     "name": "stdout",
     "output_type": "stream",
     "text": [
      "number 3\n",
      "result 3\n",
      "number 4\n",
      "result 7\n",
      "number 5\n",
      "result 2\n",
      "number 5\n",
      "result 7\n",
      "number 3\n",
      "result 4\n",
      "4\n"
     ]
    }
   ],
   "source": [
    "print solution([3,4,5,5,3])"
   ]
  },
  {
   "cell_type": "markdown",
   "metadata": {},
   "source": [
    "Lesson 2: Solution to CyclicRotation"
   ]
  },
  {
   "cell_type": "code",
   "execution_count": 2,
   "metadata": {
    "collapsed": true
   },
   "outputs": [],
   "source": [
    "def reverse(arr, i, j):\n",
    "    for idx in xrange((j - i + 1) / 2):\n",
    "        arr[i+idx], arr[j-idx] = arr[j-idx], arr[i+idx]\n",
    " \n",
    "def solution(A, K):\n",
    "    l = len(A)\n",
    "    if l == 0:\n",
    "        return []\n",
    "         \n",
    "    K = K%l\n",
    "     \n",
    "    reverse(A, l - K, l -1)\n",
    "    reverse(A, 0, l - K -1)\n",
    "    reverse(A, 0, l - 1)\n",
    " \n",
    "    return A"
   ]
  },
  {
   "cell_type": "code",
   "execution_count": 3,
   "metadata": {
    "collapsed": false
   },
   "outputs": [
    {
     "data": {
      "text/plain": [
       "[3, 4, 1, 2]"
      ]
     },
     "execution_count": 3,
     "metadata": {},
     "output_type": "execute_result"
    }
   ],
   "source": [
    "solution([1, 2, 3, 4], 2)"
   ]
  },
  {
   "cell_type": "markdown",
   "metadata": {},
   "source": [
    "# Lesson 3"
   ]
  },
  {
   "cell_type": "markdown",
   "metadata": {},
   "source": [
    "Lesson 3: Frog-Jmp"
   ]
  },
  {
   "cell_type": "code",
   "execution_count": 23,
   "metadata": {
    "collapsed": true
   },
   "outputs": [],
   "source": [
    "def solution(X, Y, D):\n",
    "    distance = Y - X\n",
    "    if distance % D == 0:\n",
    "        return distance/D\n",
    "    else:\n",
    "        return distance/D + 1"
   ]
  },
  {
   "cell_type": "code",
   "execution_count": 25,
   "metadata": {
    "collapsed": false
   },
   "outputs": [
    {
     "data": {
      "text/plain": [
       "3"
      ]
     },
     "execution_count": 25,
     "metadata": {},
     "output_type": "execute_result"
    }
   ],
   "source": [
    "solution(10,85,30)"
   ]
  },
  {
   "cell_type": "markdown",
   "metadata": {},
   "source": [
    "Lesson 3: PermMissingElem"
   ]
  },
  {
   "cell_type": "code",
   "execution_count": 35,
   "metadata": {
    "collapsed": true
   },
   "outputs": [],
   "source": [
    "def solution(A):\n",
    "    length = len(A)\n",
    "    xor_sum = 0\n",
    " \n",
    "    for index in range(0, length):\n",
    "        xor_sum = xor_sum ^ A[index] ^ (index + 1)\n",
    " \n",
    "    return xor_sum^(length + 1)"
   ]
  },
  {
   "cell_type": "code",
   "execution_count": 36,
   "metadata": {
    "collapsed": false
   },
   "outputs": [
    {
     "name": "stdout",
     "output_type": "stream",
     "text": [
      "5\n"
     ]
    }
   ],
   "source": [
    "print solution([1,2,3,4,6])"
   ]
  },
  {
   "cell_type": "code",
   "execution_count": 37,
   "metadata": {
    "collapsed": false
   },
   "outputs": [
    {
     "name": "stdout",
     "output_type": "stream",
     "text": [
      "-7\n"
     ]
    }
   ],
   "source": [
    "print solution([-10,2,8,4,6])"
   ]
  },
  {
   "cell_type": "code",
   "execution_count": 38,
   "metadata": {
    "collapsed": false
   },
   "outputs": [
    {
     "name": "stdout",
     "output_type": "stream",
     "text": [
      "2\n"
     ]
    }
   ],
   "source": [
    "print solution([1])"
   ]
  },
  {
   "cell_type": "markdown",
   "metadata": {},
   "source": [
    "Lession 3: Tape-Equilibrium"
   ]
  },
  {
   "cell_type": "code",
   "execution_count": 19,
   "metadata": {
    "collapsed": false
   },
   "outputs": [
    {
     "name": "stdout",
     "output_type": "stream",
     "text": [
      "min_dif 7\n",
      "head 4\n",
      "tail 9\n",
      "head 6\n",
      "tail 7\n",
      "head 10\n",
      "tail 3\n",
      "1\n"
     ]
    }
   ],
   "source": [
    "# Solution to Tape-Equilibrium\n",
    "def solution(A):\n",
    "    head = A[0]\n",
    "    tail = sum(A[1:])\n",
    "    min_dif = abs(head - tail)\n",
    "    print \"min_dif\",min_dif\n",
    " \n",
    "    for index in range(1, len(A)-1):\n",
    "        head += A[index]\n",
    "        print \"head\", head\n",
    "        tail -= A[index]\n",
    "        print \"tail\", tail\n",
    "        if abs(head-tail) < min_dif:\n",
    "            min_dif = abs(head-tail)\n",
    " \n",
    "    return min_dif\n",
    "\n",
    "print solution([3,1,2,4,3])"
   ]
  },
  {
   "cell_type": "code",
   "execution_count": 20,
   "metadata": {
    "collapsed": false
   },
   "outputs": [
    {
     "name": "stdout",
     "output_type": "stream",
     "text": [
      "left 0\n",
      "right 13\n",
      "best 7\n",
      "left 3\n",
      "right 10\n",
      "best 5\n",
      "left 4\n",
      "right 9\n",
      "best 1\n",
      "left 6\n",
      "right 7\n",
      "best 1\n",
      "1\n"
     ]
    }
   ],
   "source": [
    "def solution(A):\n",
    "    left, right = 0, sum(A)\n",
    "    best = float('Inf')\n",
    "    for a in A[:-1]:\n",
    "        print \"left\", left\n",
    "        left += a\n",
    "        print \"right\", right\n",
    "        right -= a\n",
    "        best = min(best, abs(left-right))\n",
    "        print \"best\", best\n",
    " \n",
    "    return best\n",
    "\n",
    "print solution([3,1,2,4,3])"
   ]
  },
  {
   "cell_type": "markdown",
   "metadata": {},
   "source": [
    "# Lesson 4"
   ]
  },
  {
   "cell_type": "markdown",
   "metadata": {
    "collapsed": true
   },
   "source": [
    "Lesson 4: Max-Counters"
   ]
  },
  {
   "cell_type": "code",
   "execution_count": 21,
   "metadata": {
    "collapsed": false
   },
   "outputs": [],
   "source": [
    "# Solution to Max-Counters by codility\n",
    "\n",
    "def solution(N, A):\n",
    "    result = [0]*N    # The list to be returned\n",
    "    max_counter = 0   # The used value in previous max_counter command\n",
    "    current_max = 0   # The current maximum value of any counter\n",
    "    for command in A:\n",
    "        print \"command\",command\n",
    "        if 1 <= command <= N:\n",
    "            # increase(X) command\n",
    "            if max_counter > result[command-1]:\n",
    "                # lazy write\n",
    "                result[command-1] = max_counter\n",
    "            result[command-1] += 1\n",
    "            if current_max < result[command-1]:\n",
    "                current_max = result[command-1]\n",
    "        else:\n",
    "            # max_counter command\n",
    "            # just record the current maximum value for later write\n",
    "            max_counter = current_max\n",
    "        print \"result\",result\n",
    "    for index in range(0,N):\n",
    "        print \"index\",index\n",
    "        if result[index] < max_counter:\n",
    "            # This element has never been used/updated after previous\n",
    "            #     max_counter command\n",
    "            result[index] = max_counter\n",
    "            print \"result\",result\n",
    "    return result"
   ]
  },
  {
   "cell_type": "code",
   "execution_count": 22,
   "metadata": {
    "collapsed": false
   },
   "outputs": [
    {
     "name": "stdout",
     "output_type": "stream",
     "text": [
      "command 1\n",
      "result [1, 0, 0, 0, 0]\n",
      "command 2\n",
      "result [1, 1, 0, 0, 0]\n",
      "command 3\n",
      "result [1, 1, 1, 0, 0]\n",
      "command 6\n",
      "result [1, 1, 1, 0, 0]\n",
      "command 2\n",
      "result [1, 2, 1, 0, 0]\n",
      "command 6\n",
      "result [1, 2, 1, 0, 0]\n",
      "command 3\n",
      "result [1, 2, 3, 0, 0]\n",
      "index 0\n",
      "result [2, 2, 3, 0, 0]\n",
      "index 1\n",
      "index 2\n",
      "index 3\n",
      "result [2, 2, 3, 2, 0]\n",
      "index 4\n",
      "result [2, 2, 3, 2, 2]\n",
      "[2, 2, 3, 2, 2]\n"
     ]
    }
   ],
   "source": [
    "print solution (5,[1,2,3,6,2,6,3])"
   ]
  },
  {
   "cell_type": "markdown",
   "metadata": {
    "collapsed": true
   },
   "source": [
    "Lession 4: Frog-River-One"
   ]
  },
  {
   "cell_type": "code",
   "execution_count": 6,
   "metadata": {
    "collapsed": false
   },
   "outputs": [
    {
     "name": "stdout",
     "output_type": "stream",
     "text": [
      "X  5\n",
      "A  [1, 2, 3, 3, 2, 5, 4, 3, 5, 3, 2]\n",
      "covered_time [-1, -1, -1, -1, -1]\n",
      "uncovered 5\n",
      "index 0\n",
      "covered_time [0, -1, -1, -1, -1]\n",
      "uncovered 4\n",
      "index 1\n",
      "covered_time [0, 1, -1, -1, -1]\n",
      "uncovered 3\n",
      "index 2\n",
      "covered_time [0, 1, 2, -1, -1]\n",
      "uncovered 2\n",
      "index 3\n",
      "index 4\n",
      "index 5\n",
      "covered_time [0, 1, 2, -1, 5]\n",
      "uncovered 1\n",
      "index 6\n",
      "covered_time [0, 1, 2, 6, 5]\n",
      "uncovered 0\n",
      "6\n"
     ]
    }
   ],
   "source": [
    "#Solution to Frog-River-One by codility\n",
    "\n",
    "def solution(X, A):\n",
    "    print \"X \",X\n",
    "    print \"A \",A\n",
    "    covered_time = [-1]*X  # Record the time, each position is covered\n",
    "    print \"covered_time\", covered_time\n",
    "    uncovered = X          # Record the number of uncovered position\n",
    "    print \"uncovered\", uncovered\n",
    "    for index in range(0,len(A)):\n",
    "        print \"index\", index\n",
    "        if covered_time[A[index]-1] != -1:\n",
    "            # This position is already covered\n",
    "            continue\n",
    "        else:\n",
    "            # This position is to be covered\n",
    "            covered_time[A[index]-1] = index\n",
    "            uncovered -= 1\n",
    "            print \"covered_time\", covered_time\n",
    "            print \"uncovered\", uncovered\n",
    "            if uncovered == 0:\n",
    "                # All positions are covered\n",
    "                return index\n",
    " \n",
    "    # Finally, some positions are not covered\n",
    "    return -1\n",
    "\n",
    "print solution(5, [1,2,3,3,2,5,4,3,5,3,2])"
   ]
  },
  {
   "cell_type": "code",
   "execution_count": 7,
   "metadata": {
    "collapsed": false
   },
   "outputs": [
    {
     "name": "stdout",
     "output_type": "stream",
     "text": [
      "X  4\n",
      "A  [2, 3, 2, 3]\n",
      "covered_time [-1, -1, -1, -1]\n",
      "uncovered 4\n",
      "index 0\n",
      "covered_time [-1, 0, -1, -1]\n",
      "uncovered 3\n",
      "index 1\n",
      "covered_time [-1, 0, 1, -1]\n",
      "uncovered 2\n",
      "index 2\n",
      "index 3\n",
      "-1\n"
     ]
    }
   ],
   "source": [
    "print solution(4, [2,3,2,3])"
   ]
  },
  {
   "cell_type": "code",
   "execution_count": 8,
   "metadata": {
    "collapsed": true
   },
   "outputs": [],
   "source": [
    "def solution(X, A):\n",
    "    # write your code in Python 2.7\n",
    "    covered = 0\n",
    "    covered_a = [-1]*X\n",
    "    for index,element in enumerate(A):\n",
    "        if element not in covered_a:\n",
    "            covered_a[element-1] = element\n",
    "            covered += 1\n",
    "            if covered == X:\n",
    "                return index\n",
    "    return -1\n",
    "# 100/16 = 54%\n",
    "\n",
    "def solution(X, A):\n",
    "# write your code in Python 2.7\n",
    "    covered = 0\n",
    "    covered_a = [-1]*X\n",
    "    for index,element in enumerate(A):\n",
    "        if covered_a[element-1] == -1:\n",
    "            covered_a[element-1] = element\n",
    "            covered += 1\n",
    "            if covered == X:\n",
    "                return index\n",
    "    return -1\n",
    "#100%"
   ]
  },
  {
   "cell_type": "code",
   "execution_count": 9,
   "metadata": {
    "collapsed": false
   },
   "outputs": [
    {
     "name": "stdout",
     "output_type": "stream",
     "text": [
      "-1\n"
     ]
    }
   ],
   "source": [
    "print solution(4, [2,3,2,3])"
   ]
  },
  {
   "cell_type": "code",
   "execution_count": 10,
   "metadata": {
    "collapsed": false
   },
   "outputs": [
    {
     "name": "stdout",
     "output_type": "stream",
     "text": [
      "6\n"
     ]
    }
   ],
   "source": [
    "print solution(5, [1,2,3,3,2,5,4,3,5,3,2])"
   ]
  },
  {
   "cell_type": "code",
   "execution_count": 11,
   "metadata": {
    "collapsed": true
   },
   "outputs": [],
   "source": [
    "def solution(X, A):\n",
    "    checker=0\n",
    "    final_val=pow(2,5)-1\n",
    "    print \"final_val\", final_val\n",
    "    for x in range(len(A)):\n",
    "        # << bit-wise left shift\n",
    "        checker=checker| 1<<(A[x]-1)\n",
    "        print \"checker\", checker\n",
    " \n",
    "        if(checker==final_val):\n",
    "            return x\n",
    " \n",
    "    return -1"
   ]
  },
  {
   "cell_type": "code",
   "execution_count": 12,
   "metadata": {
    "collapsed": false
   },
   "outputs": [
    {
     "name": "stdout",
     "output_type": "stream",
     "text": [
      "final_val 31\n",
      "checker 1\n",
      "checker 3\n",
      "checker 7\n",
      "checker 7\n",
      "checker 7\n",
      "checker 23\n",
      "checker 31\n",
      "6\n"
     ]
    }
   ],
   "source": [
    "print solution(5, [1,2,3,3,2,5,4,3,5,3,2])"
   ]
  },
  {
   "cell_type": "code",
   "execution_count": 14,
   "metadata": {
    "collapsed": false
   },
   "outputs": [
    {
     "data": {
      "text/plain": [
       "4"
      ]
     },
     "execution_count": 14,
     "metadata": {},
     "output_type": "execute_result"
    }
   ],
   "source": [
    "1<<2"
   ]
  },
  {
   "cell_type": "code",
   "execution_count": 13,
   "metadata": {
    "collapsed": false
   },
   "outputs": [
    {
     "data": {
      "text/plain": [
       "8"
      ]
     },
     "execution_count": 13,
     "metadata": {},
     "output_type": "execute_result"
    }
   ],
   "source": [
    "1<<3"
   ]
  },
  {
   "cell_type": "markdown",
   "metadata": {},
   "source": [
    "Lession 4: Perm-Check:"
   ]
  },
  {
   "cell_type": "code",
   "execution_count": 27,
   "metadata": {
    "collapsed": true
   },
   "outputs": [],
   "source": [
    "def solution(A):\n",
    "    counter = [0]*len(A)\n",
    "    limit = len(A)\n",
    "    for element in A:\n",
    "        if not 1 <= element <= limit:\n",
    "            return 0\n",
    "        else:\n",
    "            if counter[element-1] != 0:\n",
    "                return 0\n",
    "            else:\n",
    "                counter[element-1] = 1\n",
    " \n",
    "    return 1"
   ]
  },
  {
   "cell_type": "code",
   "execution_count": 28,
   "metadata": {
    "collapsed": false
   },
   "outputs": [
    {
     "data": {
      "text/plain": [
       "1"
      ]
     },
     "execution_count": 28,
     "metadata": {},
     "output_type": "execute_result"
    }
   ],
   "source": [
    "solution([4,1,3,2])"
   ]
  },
  {
   "cell_type": "code",
   "execution_count": 29,
   "metadata": {
    "collapsed": false
   },
   "outputs": [
    {
     "data": {
      "text/plain": [
       "0"
      ]
     },
     "execution_count": 29,
     "metadata": {},
     "output_type": "execute_result"
    }
   ],
   "source": [
    "solution([4,1,3])"
   ]
  },
  {
   "cell_type": "markdown",
   "metadata": {},
   "source": [
    "Lesson 4: MissingInteger"
   ]
  },
  {
   "cell_type": "code",
   "execution_count": 31,
   "metadata": {
    "collapsed": false
   },
   "outputs": [],
   "source": [
    "def solution(A):\n",
    "    ''' Solve it with Pigeonhole principle.\n",
    "        There are N integers in the input. So for the\n",
    "        first N+1 positive integers, at least one of \n",
    "        them must be missing.\n",
    "    '''\n",
    "    # We only care about the first N+1 positive integers.\n",
    "    # occurrence[i] is for the integer i+1.\n",
    "    occurrence = [False] * (len(A) + 1)\n",
    "    for item in A:\n",
    "        if 1 <= item <= len(A) + 1:\n",
    "            occurrence[item-1] = True\n",
    "    \n",
    "    # Find out the missing minimal positive integer.\n",
    "    for index in xrange(len(A) + 1):\n",
    "        if occurrence[index] == False:\n",
    "            return index + 1\n",
    "    \n",
    "    raise Exception(\"Should never be here.\")\n",
    "    return -1"
   ]
  },
  {
   "cell_type": "code",
   "execution_count": 32,
   "metadata": {
    "collapsed": false
   },
   "outputs": [
    {
     "data": {
      "text/plain": [
       "5"
      ]
     },
     "execution_count": 32,
     "metadata": {},
     "output_type": "execute_result"
    }
   ],
   "source": [
    "solution([1,3,6,4,1,2])"
   ]
  },
  {
   "cell_type": "markdown",
   "metadata": {},
   "source": [
    "# Lesson 5"
   ]
  },
  {
   "cell_type": "markdown",
   "metadata": {},
   "source": [
    "Lesson 5 Solution to Count-Div"
   ]
  },
  {
   "cell_type": "code",
   "execution_count": 40,
   "metadata": {
    "collapsed": true
   },
   "outputs": [],
   "source": [
    "def solution(A, B, K):\n",
    "    if A % K == 0:  return (B - A) // K + 1\n",
    "    else:           return (B - (A - A % K )) // K"
   ]
  },
  {
   "cell_type": "code",
   "execution_count": 41,
   "metadata": {
    "collapsed": false
   },
   "outputs": [
    {
     "data": {
      "text/plain": [
       "-3"
      ]
     },
     "execution_count": 41,
     "metadata": {},
     "output_type": "execute_result"
    }
   ],
   "source": [
    "solution(19,4,6)"
   ]
  },
  {
   "cell_type": "code",
   "execution_count": 42,
   "metadata": {
    "collapsed": true
   },
   "outputs": [],
   "source": [
    "def solution(A, B, K):\n",
    "    edge = 1 if A%K == 0 else 0\n",
    "    return B//K - A//K + edge"
   ]
  },
  {
   "cell_type": "code",
   "execution_count": 43,
   "metadata": {
    "collapsed": false
   },
   "outputs": [
    {
     "data": {
      "text/plain": [
       "-3"
      ]
     },
     "execution_count": 43,
     "metadata": {},
     "output_type": "execute_result"
    }
   ],
   "source": [
    "solution(19,4,6)"
   ]
  },
  {
   "cell_type": "markdown",
   "metadata": {
    "collapsed": true
   },
   "source": [
    "Lesson 5 Solution to PassingCars"
   ]
  },
  {
   "cell_type": "code",
   "execution_count": 1,
   "metadata": {
    "collapsed": true
   },
   "outputs": [],
   "source": [
    "def solution(A):\n",
    "    #initialize pairs to zero\n",
    "    pairs = 0\n",
    "    #count the numbers of zero discovered while traversing 'A'\n",
    "    #for each successive '1' in the list, number of pairs will\n",
    "    #be incremented by the number of zeros discovered before that '1'\n",
    "    zero_count = 0\n",
    "    #traverse through the list 'A'\n",
    "    for i in range(0, len(A)):\n",
    "        if A[i] == 0:\n",
    "            #counting the number of zeros discovered\n",
    "            zero_count += 1\n",
    "        elif A[i] == 1:\n",
    "            #if '1' is discovered, then number of pairs is incremented\n",
    "            #by the number of '0's discovered before that '1'\n",
    "            pairs += zero_count\n",
    "            #if pairs is greater than 1 billion, return -1\n",
    "            if pairs > 1000000000:\n",
    "                return -1\n",
    "    #return number of pairs\n",
    "    return pairs"
   ]
  },
  {
   "cell_type": "code",
   "execution_count": 3,
   "metadata": {
    "collapsed": false
   },
   "outputs": [
    {
     "data": {
      "text/plain": [
       "6"
      ]
     },
     "execution_count": 3,
     "metadata": {},
     "output_type": "execute_result"
    }
   ],
   "source": [
    "solution([1,0,0,0,1,1])"
   ]
  },
  {
   "cell_type": "markdown",
   "metadata": {
    "collapsed": true
   },
   "source": [
    "Lesson 5 Solution to Genomic-Range-Query"
   ]
  },
  {
   "cell_type": "code",
   "execution_count": 7,
   "metadata": {
    "collapsed": true
   },
   "outputs": [],
   "source": [
    "def solution(S, P, Q):\n",
    "    result = []\n",
    "    DNA_len = len(S)\n",
    "    mapping = {\"A\":1, \"C\":2, \"G\":3, \"T\":4}\n",
    "    # next_nucl is used to store the position information\n",
    "    # next_nucl[0] is about the \"A\" nucleotides, [1] about \"C\"\n",
    "    #    [2] about \"G\", and [3] about \"T\"\n",
    "    # next_nucl[i][j] = k means: for the corresponding nucleotides i,\n",
    "    #    at position j, the next corresponding nucleotides appears\n",
    "    #    at position k (including j)\n",
    "    # k == -1 means: the next corresponding nucleotides does not exist\n",
    "    next_nucl = [[-1]*DNA_len, [-1]*DNA_len, [-1]*DNA_len, [-1]*DNA_len]\n",
    "    print \"next_nucl\", next_nucl\n",
    " \n",
    "    # Scan the whole DNA sequence, and retrieve the position information\n",
    "    next_nucl[mapping[S[-1]] - 1][-1] = DNA_len-1\n",
    "    print \"DNA_len-1\", DNA_len-1\n",
    "    for index in range(DNA_len-2,-1,-1):\n",
    "        print \"index\", index\n",
    "        next_nucl[0][index] = next_nucl[0][index+1]\n",
    "        next_nucl[1][index] = next_nucl[1][index+1]\n",
    "        next_nucl[2][index] = next_nucl[2][index+1]\n",
    "        next_nucl[3][index] = next_nucl[3][index+1]\n",
    "        next_nucl[mapping[S[index]] - 1][index] = index\n",
    " \n",
    "    for index in range(0,len(P)):\n",
    "        print \"index\", index\n",
    "        if next_nucl[0][P[index]] != -1 and next_nucl[0][P[index]] <= Q[index]:\n",
    "            result.append(1)\n",
    "        elif next_nucl[1][P[index]] != -1 and next_nucl[1][P[index]] <= Q[index]:\n",
    "            result.append(2)\n",
    "        elif next_nucl[2][P[index]] != -1 and next_nucl[2][P[index]] <= Q[index]:\n",
    "            result.append(3)\n",
    "        else:\n",
    "            result.append(4)\n",
    " \n",
    "    return result"
   ]
  },
  {
   "cell_type": "code",
   "execution_count": 8,
   "metadata": {
    "collapsed": false
   },
   "outputs": [
    {
     "name": "stdout",
     "output_type": "stream",
     "text": [
      "next_nucl [[-1, -1, -1, -1, -1, -1, -1], [-1, -1, -1, -1, -1, -1, -1], [-1, -1, -1, -1, -1, -1, -1], [-1, -1, -1, -1, -1, -1, -1]]\n",
      "DNA_len-1 6\n",
      "index 5\n",
      "index 4\n",
      "index 3\n",
      "index 2\n",
      "index 1\n",
      "index 0\n",
      "index 0\n",
      "index 1\n",
      "index 2\n",
      "index 3\n",
      "index 4\n",
      "index 5\n",
      "[2, 1, 1, 3, 1, 1]\n"
     ]
    }
   ],
   "source": [
    "print solution ('CCAGTAC',[0,1,2,3,2,0],[1,5,4,4,3,2])"
   ]
  },
  {
   "cell_type": "code",
   "execution_count": null,
   "metadata": {
    "collapsed": true
   },
   "outputs": [],
   "source": []
  }
 ],
 "metadata": {
  "kernelspec": {
   "display_name": "Python 2",
   "language": "python",
   "name": "python2"
  },
  "language_info": {
   "codemirror_mode": {
    "name": "ipython",
    "version": 2
   },
   "file_extension": ".py",
   "mimetype": "text/x-python",
   "name": "python",
   "nbconvert_exporter": "python",
   "pygments_lexer": "ipython2",
   "version": "2.7.11"
  }
 },
 "nbformat": 4,
 "nbformat_minor": 0
}
